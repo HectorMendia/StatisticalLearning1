{
 "cells": [
  {
   "cell_type": "markdown",
   "metadata": {},
   "source": [
    "## Tensorflow: gradient descent y tensorboard"
   ]
  },
  {
   "cell_type": "code",
   "execution_count": 43,
   "metadata": {},
   "outputs": [],
   "source": [
    "import numpy as np\n",
    "import pandas as pd\n",
    "import tensorflow as tf\n",
    "from datetime import datetime\n"
   ]
  },
  {
   "cell_type": "code",
   "execution_count": 53,
   "metadata": {},
   "outputs": [
    {
     "name": "stdout",
     "output_type": "stream",
     "text": [
      "2.1.0\n"
     ]
    }
   ],
   "source": [
    "print(tf.__version__)"
   ]
  },
  {
   "cell_type": "code",
   "execution_count": 54,
   "metadata": {},
   "outputs": [
    {
     "name": "stdout",
     "output_type": "stream",
     "text": [
      "Enabled compatitility to tf1.x\n"
     ]
    }
   ],
   "source": [
    "if tf.__version__.startswith(\"2.\"):\n",
    "  import tensorflow.compat.v1 as tf\n",
    "  tf.compat.v1.disable_v2_behavior()\n",
    "  tf.compat.v1.disable_eager_execution()\n",
    "  print(\"Enabled compatitility to tf1.x\")"
   ]
  },
  {
   "cell_type": "markdown",
   "metadata": {},
   "source": [
    "#### Carga de datos"
   ]
  },
  {
   "cell_type": "code",
   "execution_count": 7,
   "metadata": {},
   "outputs": [],
   "source": [
    "data = np.load('proyecto_training_data.npy')"
   ]
  },
  {
   "cell_type": "markdown",
   "metadata": {},
   "source": [
    "segmentacion de datos"
   ]
  },
  {
   "cell_type": "code",
   "execution_count": 209,
   "metadata": {},
   "outputs": [
    {
     "data": {
      "text/html": [
       "<div>\n",
       "<style scoped>\n",
       "    .dataframe tbody tr th:only-of-type {\n",
       "        vertical-align: middle;\n",
       "    }\n",
       "\n",
       "    .dataframe tbody tr th {\n",
       "        vertical-align: top;\n",
       "    }\n",
       "\n",
       "    .dataframe thead th {\n",
       "        text-align: right;\n",
       "    }\n",
       "</style>\n",
       "<table border=\"1\" class=\"dataframe\">\n",
       "  <thead>\n",
       "    <tr style=\"text-align: right;\">\n",
       "      <th></th>\n",
       "      <th>SalePrice</th>\n",
       "      <th>OverallQual</th>\n",
       "      <th>FstFlrSF</th>\n",
       "      <th>TotRmsAbvGrd</th>\n",
       "      <th>YearBuilt</th>\n",
       "      <th>LotFrontage</th>\n",
       "    </tr>\n",
       "  </thead>\n",
       "  <tbody>\n",
       "    <tr>\n",
       "      <td>count</td>\n",
       "      <td>1460.000000</td>\n",
       "      <td>1460.000000</td>\n",
       "      <td>1460.000000</td>\n",
       "      <td>1460.000000</td>\n",
       "      <td>1460.000000</td>\n",
       "      <td>1460.000000</td>\n",
       "    </tr>\n",
       "    <tr>\n",
       "      <td>mean</td>\n",
       "      <td>180921.195890</td>\n",
       "      <td>6.099315</td>\n",
       "      <td>1162.626712</td>\n",
       "      <td>6.517808</td>\n",
       "      <td>1971.267808</td>\n",
       "      <td>57.623288</td>\n",
       "    </tr>\n",
       "    <tr>\n",
       "      <td>std</td>\n",
       "      <td>79442.502883</td>\n",
       "      <td>1.382997</td>\n",
       "      <td>386.587738</td>\n",
       "      <td>1.625393</td>\n",
       "      <td>30.202904</td>\n",
       "      <td>34.664304</td>\n",
       "    </tr>\n",
       "    <tr>\n",
       "      <td>min</td>\n",
       "      <td>34900.000000</td>\n",
       "      <td>1.000000</td>\n",
       "      <td>334.000000</td>\n",
       "      <td>2.000000</td>\n",
       "      <td>1872.000000</td>\n",
       "      <td>0.000000</td>\n",
       "    </tr>\n",
       "    <tr>\n",
       "      <td>25%</td>\n",
       "      <td>129975.000000</td>\n",
       "      <td>5.000000</td>\n",
       "      <td>882.000000</td>\n",
       "      <td>5.000000</td>\n",
       "      <td>1954.000000</td>\n",
       "      <td>42.000000</td>\n",
       "    </tr>\n",
       "    <tr>\n",
       "      <td>50%</td>\n",
       "      <td>163000.000000</td>\n",
       "      <td>6.000000</td>\n",
       "      <td>1087.000000</td>\n",
       "      <td>6.000000</td>\n",
       "      <td>1973.000000</td>\n",
       "      <td>63.000000</td>\n",
       "    </tr>\n",
       "    <tr>\n",
       "      <td>75%</td>\n",
       "      <td>214000.000000</td>\n",
       "      <td>7.000000</td>\n",
       "      <td>1391.250000</td>\n",
       "      <td>7.000000</td>\n",
       "      <td>2000.000000</td>\n",
       "      <td>79.000000</td>\n",
       "    </tr>\n",
       "    <tr>\n",
       "      <td>max</td>\n",
       "      <td>755000.000000</td>\n",
       "      <td>10.000000</td>\n",
       "      <td>4692.000000</td>\n",
       "      <td>14.000000</td>\n",
       "      <td>2010.000000</td>\n",
       "      <td>313.000000</td>\n",
       "    </tr>\n",
       "  </tbody>\n",
       "</table>\n",
       "</div>"
      ],
      "text/plain": [
       "           SalePrice  OverallQual     FstFlrSF  TotRmsAbvGrd    YearBuilt  \\\n",
       "count    1460.000000  1460.000000  1460.000000   1460.000000  1460.000000   \n",
       "mean   180921.195890     6.099315  1162.626712      6.517808  1971.267808   \n",
       "std     79442.502883     1.382997   386.587738      1.625393    30.202904   \n",
       "min     34900.000000     1.000000   334.000000      2.000000  1872.000000   \n",
       "25%    129975.000000     5.000000   882.000000      5.000000  1954.000000   \n",
       "50%    163000.000000     6.000000  1087.000000      6.000000  1973.000000   \n",
       "75%    214000.000000     7.000000  1391.250000      7.000000  2000.000000   \n",
       "max    755000.000000    10.000000  4692.000000     14.000000  2010.000000   \n",
       "\n",
       "       LotFrontage  \n",
       "count  1460.000000  \n",
       "mean     57.623288  \n",
       "std      34.664304  \n",
       "min       0.000000  \n",
       "25%      42.000000  \n",
       "50%      63.000000  \n",
       "75%      79.000000  \n",
       "max     313.000000  "
      ]
     },
     "execution_count": 209,
     "metadata": {},
     "output_type": "execute_result"
    }
   ],
   "source": [
    "largo = len(data)\n",
    "cols = ['SalePrice','OverallQual','FstFlrSF','TotRmsAbvGrd','YearBuilt','LotFrontage']\n",
    "\n",
    "tlargo = int(largo *1)\n",
    "datatrain = np.nan_to_num(data[:tlargo])\n",
    "\n",
    "dt = pd.DataFrame(datatrain,columns=cols)\n",
    "dt.describe()"
   ]
  },
  {
   "cell_type": "markdown",
   "metadata": {},
   "source": [
    "#### Regularizacion de los datos\n",
    "\n",
    "No es esta utlizando"
   ]
  },
  {
   "cell_type": "code",
   "execution_count": 46,
   "metadata": {},
   "outputs": [],
   "source": [
    "x1_reg = dt[cols[1]]/120\n",
    "y_reg = dt[cols[0]] /100000"
   ]
  },
  {
   "cell_type": "markdown",
   "metadata": {},
   "source": [
    "### Clase con el calculo del gradiente"
   ]
  },
  {
   "cell_type": "code",
   "execution_count": 224,
   "metadata": {},
   "outputs": [],
   "source": [
    "### Objeto del modelo\n",
    "class GradientDesend:\n",
    "    def __init__(self,b0=0.,b1=0.):\n",
    "        tf.reset_default_graph()\n",
    "        self.b0 = tf.get_variable(\"B0\",dtype=tf.float32,\n",
    "                                  shape=[],initializer=tf.constant_initializer(b0))\n",
    "        self.b1 = tf.get_variable(\"B1\",dtype=tf.float32,\n",
    "                                  shape=[],initializer=tf.constant_initializer(b1))\n",
    "        self.error = tf.get_variable(\"error\",dtype=tf.float32,\n",
    "                                  shape=[],initializer=tf.zeros_initializer())\n",
    "        \n",
    "    def step(self,x,y,lr):\n",
    "        # hipotesis\n",
    "        yhat = tf.matmul(x,[[self.b0],[self.b1]],name=\"yhat\") \n",
    "\n",
    "        error = tf.reduce_mean(tf.math.square(y - yhat) ,name=\"reduce_mean\")/2\n",
    "\n",
    "        grad = tf.gradients(error,[self.b0,self.b1], name = \"gradients\")\n",
    "        \n",
    "        \n",
    "        local_b0 = tf.assign(self.b0, self.b0 - lr*grad[0] , name=\"assign_b0\")\n",
    "        local_b1 = tf.assign(self.b1, self.b1 - lr*grad[1] , name=\"assign_b1\")\n",
    "        local_error = tf.assign(self.error, error , name=\"assign_error\")\n",
    "        \n",
    "        \n",
    "        salida = tf.group(local_b0,local_b1,local_error, name=\"grupo\")\n",
    "\n",
    "        return salida\n",
    "        \n",
    "        "
   ]
  },
  {
   "cell_type": "markdown",
   "metadata": {},
   "source": [
    "### Ejecucion"
   ]
  },
  {
   "cell_type": "code",
   "execution_count": 237,
   "metadata": {},
   "outputs": [
    {
     "name": "stdout",
     "output_type": "stream",
     "text": [
      "INFO:tensorflow:Graph was finalized.\n",
      "INFO:tensorflow:Running local_init_op.\n",
      "INFO:tensorflow:Done running local_init_op.\n",
      "y = 0.16525016725063324x + 180920.140625 [3153393664.0]\n"
     ]
    }
   ],
   "source": [
    "\n",
    "tf.reset_default_graph()\n",
    "gd = GradientDesend(init_b0,init_b1)\n",
    "\n",
    "# valores iniciales\n",
    "init_b0 = 0\n",
    "init_b1 = 0\n",
    "lr = 0.04\n",
    "iteracciones = 2000\n",
    "\n",
    "dat_x = tf.placeholder(tf.float32,[tlargo,2],\"Value_x\")\n",
    "dat_y = tf.placeholder(tf.float32,[tlargo],\"Value_y\")\n",
    "\n",
    "step = gd.step(dat_x,dat_y,lr)\n",
    "\n",
    "# se agrega unos a los valores de X para operarlo como matriz\n",
    "nc = np.ones_like(dt[cols[1]])\n",
    "x = np.hstack((np.expand_dims(dt[cols[1]],1),np.expand_dims(nc,1))) \n",
    "\n",
    "\n",
    "error_summary = tf.summary.scalar('error', gd.error)\n",
    "\n",
    "with tf.train.MonitoredSession() as session:\n",
    "    localdir = \"logs/gradient_\" + datetime.now().strftime(\"%Y%m%d-%H%M%S\") + \"_lr=\" + str(lr) + \"_b0=\"+ str(init_b0) + \"_b1=\"+ str(init_b1)\n",
    "\n",
    "    feed_dict = {dat_x:x, dat_y:dt[cols[0]]}\n",
    "    writer = tf.summary.FileWriter(localdir , session.graph)\n",
    "    for i in range(iteracciones):\n",
    "        session.run(step,feed_dict=feed_dict)\n",
    "        summary = session.run(error_summary,feed_dict=feed_dict)\n",
    "        writer.add_summary(summary, i)\n",
    "\n",
    "    \n",
    "    \n",
    "    b0,b1,error = session.run([gd.b0,gd.b1,gd.error],feed_dict=feed_dict)\n",
    "    print(\"y = {}x + {} [{}]\".format(b0,b1,error))\n"
   ]
  },
  {
   "cell_type": "markdown",
   "metadata": {},
   "source": [
    "#### Modelo\n",
    "<img src=\"GraphModel.png\" >"
   ]
  },
  {
   "cell_type": "markdown",
   "metadata": {},
   "source": [
    "### Escalar del error\n",
    "<img src=\"GraphScalar.png\">"
   ]
  },
  {
   "cell_type": "markdown",
   "metadata": {},
   "source": [
    "## Conclusiones"
   ]
  },
  {
   "cell_type": "markdown",
   "metadata": {},
   "source": [
    "Debido a que no se utilizo ningun metodo de regularizacion de los datos y la variable X seleccionada (OverallQual) su rango de valores no pasa de 10 contra los valores de venta que son cientos de miles hace dificil la obtencion de un modelo estable, sin embargo se logran observar mejoras significativas entre los diversos experimientos\n",
    "\n",
    "El mejor modelo encontrado es con un **Learning Rate de 0.04**; arriba de eso el modelo comienza a ser divergente.  La mayoria de las veces converge en 10 iteraciones, despues los cambios son significativos pero devido a la escala de los datos son poco perceptibles\n",
    "\n",
    "Cuando los valores iniciales de b0 y b1 se definen significativamente altos pareciera no tener una curva de cambio y se muestra mas como una linea horizontal\n",
    "\n",
    "Aun despues de **500 iteraciones** el valor de error sigue desendiendo\n",
    "\n",
    "\n",
    "\n"
   ]
  },
  {
   "cell_type": "markdown",
   "metadata": {},
   "source": [
    "##### Con los parametros \n",
    "init_b0 = 6      <-- media de los valores de x <br/>\n",
    "init_b1 = 180921 <-- media de los valores de y <br/>\n",
    "lr = 0.04 <br/>\n",
    "iteracciones = 1000 <br/>\n",
    "<br/>\n",
    "Se logra el modelo siguiente\n",
    "<br/>\n",
    "y = 0.028576986864209175x + 180921.015625 **[Error = 3153393664.0]**\n",
    "\n",
    "\n"
   ]
  },
  {
   "cell_type": "markdown",
   "metadata": {},
   "source": [
    "Se logra tener el mismo error con los siguintes parametros<br/>\n",
    "init_b0 = 0<br/>\n",
    "init_b1 = 0<br/>\n",
    "lr = 0.04<br/>\n",
    "iteracciones = 2000<br/><br/>\n",
    "y = 0.16525016725063324x + 180920.140625 **[Error = 3153393664.0]**"
   ]
  },
  {
   "cell_type": "markdown",
   "metadata": {},
   "source": [
    "<img src=\"GraphScalar2000.png\">\n"
   ]
  }
 ],
 "metadata": {
  "kernelspec": {
   "display_name": "Python 3",
   "language": "python",
   "name": "python3"
  },
  "language_info": {
   "codemirror_mode": {
    "name": "ipython",
    "version": 3
   },
   "file_extension": ".py",
   "mimetype": "text/x-python",
   "name": "python",
   "nbconvert_exporter": "python",
   "pygments_lexer": "ipython3",
   "version": "3.7.4"
  }
 },
 "nbformat": 4,
 "nbformat_minor": 4
}
