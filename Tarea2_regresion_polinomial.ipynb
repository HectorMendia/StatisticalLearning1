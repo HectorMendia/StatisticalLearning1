{
 "cells": [
  {
   "cell_type": "markdown",
   "metadata": {},
   "source": [
    "# Tarea 2 - Regresion Polinomial & Feature engineering\n",
    "\n",
    "### Parte 1 - Modelo exponencial de covid-19 usando feature-eng\n",
    "\n",
    "Usando el ejemplo de covid-19 en el notebook de feature-eng (https://colab.research.google.com/drive/1sJV2HG7tQgCGKES3-dIclzHQJ9qAWB3b?usp=sharing) crear un modelo de covid-19 para Guatemala.\n",
    "\n",
    "* Convertir la fecha a un entero \"número de día\", por ejemplo si se usan datos desde el 22 de abril, este es el día 0, el 23 es el día 1.\n",
    "* Aplicar regresión lineal sobre la variable \"Confirmed\" transformada.\n",
    "* Una vez entrenado el modelo usarlo para aproximar la cantidad de casos confirmados para el 6 de Junio. Se debe reportar la cantidad de casos, no la cantidad transformada obtenida."
   ]
  },
  {
   "cell_type": "code",
   "execution_count": 60,
   "metadata": {},
   "outputs": [],
   "source": [
    "import numpy as np\n",
    "import pandas as pd\n",
    "from matplotlib import pyplot as plt\n",
    "import tensorflow as tf\n",
    "from datetime import datetime\n",
    "import seaborn as sb"
   ]
  },
  {
   "cell_type": "code",
   "execution_count": 116,
   "metadata": {},
   "outputs": [
    {
     "name": "stdout",
     "output_type": "stream",
     "text": [
      "Enabled compatitility to tf1.x\n"
     ]
    }
   ],
   "source": [
    "if tf.__version__.startswith(\"2.\"):\n",
    "  import tensorflow.compat.v1 as tf\n",
    "  tf.compat.v1.disable_v2_behavior()\n",
    "  tf.compat.v1.disable_eager_execution()\n",
    "  print(\"Enabled compatitility to tf1.x\")"
   ]
  },
  {
   "cell_type": "markdown",
   "metadata": {},
   "source": [
    "#### Carga de datos"
   ]
  },
  {
   "cell_type": "code",
   "execution_count": 4,
   "metadata": {},
   "outputs": [
    {
     "data": {
      "text/html": [
       "<div>\n",
       "<style scoped>\n",
       "    .dataframe tbody tr th:only-of-type {\n",
       "        vertical-align: middle;\n",
       "    }\n",
       "\n",
       "    .dataframe tbody tr th {\n",
       "        vertical-align: top;\n",
       "    }\n",
       "\n",
       "    .dataframe thead th {\n",
       "        text-align: right;\n",
       "    }\n",
       "</style>\n",
       "<table border=\"1\" class=\"dataframe\">\n",
       "  <thead>\n",
       "    <tr style=\"text-align: right;\">\n",
       "      <th></th>\n",
       "      <th>Province/State</th>\n",
       "      <th>Country/Region</th>\n",
       "      <th>Lat</th>\n",
       "      <th>Long</th>\n",
       "      <th>Date</th>\n",
       "      <th>Confirmed</th>\n",
       "      <th>Deaths</th>\n",
       "      <th>Recovered</th>\n",
       "    </tr>\n",
       "  </thead>\n",
       "  <tbody>\n",
       "    <tr>\n",
       "      <td>0</td>\n",
       "      <td>NaN</td>\n",
       "      <td>Afghanistan</td>\n",
       "      <td>33.0000</td>\n",
       "      <td>65.0000</td>\n",
       "      <td>2020-01-22</td>\n",
       "      <td>0</td>\n",
       "      <td>0</td>\n",
       "      <td>0</td>\n",
       "    </tr>\n",
       "    <tr>\n",
       "      <td>1</td>\n",
       "      <td>NaN</td>\n",
       "      <td>Albania</td>\n",
       "      <td>41.1533</td>\n",
       "      <td>20.1683</td>\n",
       "      <td>2020-01-22</td>\n",
       "      <td>0</td>\n",
       "      <td>0</td>\n",
       "      <td>0</td>\n",
       "    </tr>\n",
       "    <tr>\n",
       "      <td>2</td>\n",
       "      <td>NaN</td>\n",
       "      <td>Algeria</td>\n",
       "      <td>28.0339</td>\n",
       "      <td>1.6596</td>\n",
       "      <td>2020-01-22</td>\n",
       "      <td>0</td>\n",
       "      <td>0</td>\n",
       "      <td>0</td>\n",
       "    </tr>\n",
       "    <tr>\n",
       "      <td>3</td>\n",
       "      <td>NaN</td>\n",
       "      <td>Andorra</td>\n",
       "      <td>42.5063</td>\n",
       "      <td>1.5218</td>\n",
       "      <td>2020-01-22</td>\n",
       "      <td>0</td>\n",
       "      <td>0</td>\n",
       "      <td>0</td>\n",
       "    </tr>\n",
       "    <tr>\n",
       "      <td>4</td>\n",
       "      <td>NaN</td>\n",
       "      <td>Angola</td>\n",
       "      <td>-11.2027</td>\n",
       "      <td>17.8739</td>\n",
       "      <td>2020-01-22</td>\n",
       "      <td>0</td>\n",
       "      <td>0</td>\n",
       "      <td>0</td>\n",
       "    </tr>\n",
       "  </tbody>\n",
       "</table>\n",
       "</div>"
      ],
      "text/plain": [
       "  Province/State Country/Region      Lat     Long       Date  Confirmed  \\\n",
       "0            NaN    Afghanistan  33.0000  65.0000 2020-01-22          0   \n",
       "1            NaN        Albania  41.1533  20.1683 2020-01-22          0   \n",
       "2            NaN        Algeria  28.0339   1.6596 2020-01-22          0   \n",
       "3            NaN        Andorra  42.5063   1.5218 2020-01-22          0   \n",
       "4            NaN         Angola -11.2027  17.8739 2020-01-22          0   \n",
       "\n",
       "   Deaths  Recovered  \n",
       "0       0          0  \n",
       "1       0          0  \n",
       "2       0          0  \n",
       "3       0          0  \n",
       "4       0          0  "
      ]
     },
     "execution_count": 4,
     "metadata": {},
     "output_type": "execute_result"
    }
   ],
   "source": [
    "covid19_data = pd.read_csv('covid_19_clean_complete.csv')\n",
    "covid19_data[\"Date\"] = pd.to_datetime(covid19_data[\"Date\"],infer_datetime_format = True)\n",
    "covid19_data.head()"
   ]
  },
  {
   "cell_type": "code",
   "execution_count": 6,
   "metadata": {},
   "outputs": [
    {
     "data": {
      "text/plain": [
       "Province/State            object\n",
       "Country/Region            object\n",
       "Lat                      float64\n",
       "Long                     float64\n",
       "Date              datetime64[ns]\n",
       "Confirmed                  int64\n",
       "Deaths                     int64\n",
       "Recovered                  int64\n",
       "dtype: object"
      ]
     },
     "execution_count": 6,
     "metadata": {},
     "output_type": "execute_result"
    }
   ],
   "source": [
    "covid19_data.dtypes"
   ]
  },
  {
   "cell_type": "code",
   "execution_count": 22,
   "metadata": {},
   "outputs": [
    {
     "data": {
      "text/plain": [
       "<matplotlib.axes._subplots.AxesSubplot at 0x20e56a73888>"
      ]
     },
     "execution_count": 22,
     "metadata": {},
     "output_type": "execute_result"
    },
    {
     "data": {
      "image/png": "[encoded data removed]",
      "text/plain": [
       "<Figure size 432x288 with 1 Axes>"
      ]
     },
     "metadata": {
      "needs_background": "light"
     },
     "output_type": "display_data"
    }
   ],
   "source": [
    "## Filtro de datos\n",
    "GT_confirmed = covid19_data[(covid19_data[\"Country/Region\"] == 'Guatemala') & (covid19_data[\"Confirmed\"] > 0)].copy()\n",
    "\n",
    "# reset de index\n",
    "GT_confirmed = GT_confirmed.reset_index(drop=True)\n",
    "# asignacion\n",
    "GT_confirmed[\"Id\"] = GT_confirmed.index\n",
    "\n",
    "# Despliegue\n",
    "GT_confirmed.plot.scatter(x = \"Id\",y=\"Confirmed\")\n"
   ]
  },
  {
   "cell_type": "code",
   "execution_count": 23,
   "metadata": {},
   "outputs": [
    {
     "data": {
      "text/plain": [
       "<matplotlib.axes._subplots.AxesSubplot at 0x20e56d9f5c8>"
      ]
     },
     "execution_count": 23,
     "metadata": {},
     "output_type": "execute_result"
    },
    {
     "data": {
      "image/png": "[encoded data removed]",
      "text/plain": [
       "<Figure size 432x288 with 1 Axes>"
      ]
     },
     "metadata": {
      "needs_background": "light"
     },
     "output_type": "display_data"
    }
   ],
   "source": [
    "# Transformacion\n",
    "GT_confirmed[\"Ln_confirmed\"] = np.log(GT_confirmed[\"Confirmed\"])\n",
    "GT_confirmed.plot.scatter(x = \"Id\",y=\"Ln_confirmed\")"
   ]
  },
  {
   "cell_type": "code",
   "execution_count": 26,
   "metadata": {},
   "outputs": [
    {
     "data": {
      "text/html": [
       "<div>\n",
       "<style scoped>\n",
       "    .dataframe tbody tr th:only-of-type {\n",
       "        vertical-align: middle;\n",
       "    }\n",
       "\n",
       "    .dataframe tbody tr th {\n",
       "        vertical-align: top;\n",
       "    }\n",
       "\n",
       "    .dataframe thead th {\n",
       "        text-align: right;\n",
       "    }\n",
       "</style>\n",
       "<table border=\"1\" class=\"dataframe\">\n",
       "  <thead>\n",
       "    <tr style=\"text-align: right;\">\n",
       "      <th></th>\n",
       "      <th>Province/State</th>\n",
       "      <th>Country/Region</th>\n",
       "      <th>Lat</th>\n",
       "      <th>Long</th>\n",
       "      <th>Date</th>\n",
       "      <th>Confirmed</th>\n",
       "      <th>Deaths</th>\n",
       "      <th>Recovered</th>\n",
       "      <th>Id</th>\n",
       "      <th>Ln_confirmed</th>\n",
       "    </tr>\n",
       "  </thead>\n",
       "  <tbody>\n",
       "    <tr>\n",
       "      <td>0</td>\n",
       "      <td>NaN</td>\n",
       "      <td>Guatemala</td>\n",
       "      <td>15.7835</td>\n",
       "      <td>-90.2308</td>\n",
       "      <td>2020-03-14</td>\n",
       "      <td>1</td>\n",
       "      <td>0</td>\n",
       "      <td>0</td>\n",
       "      <td>0</td>\n",
       "      <td>0.000000</td>\n",
       "    </tr>\n",
       "    <tr>\n",
       "      <td>1</td>\n",
       "      <td>NaN</td>\n",
       "      <td>Guatemala</td>\n",
       "      <td>15.7835</td>\n",
       "      <td>-90.2308</td>\n",
       "      <td>2020-03-15</td>\n",
       "      <td>1</td>\n",
       "      <td>0</td>\n",
       "      <td>0</td>\n",
       "      <td>1</td>\n",
       "      <td>0.000000</td>\n",
       "    </tr>\n",
       "    <tr>\n",
       "      <td>2</td>\n",
       "      <td>NaN</td>\n",
       "      <td>Guatemala</td>\n",
       "      <td>15.7835</td>\n",
       "      <td>-90.2308</td>\n",
       "      <td>2020-03-16</td>\n",
       "      <td>2</td>\n",
       "      <td>1</td>\n",
       "      <td>0</td>\n",
       "      <td>2</td>\n",
       "      <td>0.693147</td>\n",
       "    </tr>\n",
       "    <tr>\n",
       "      <td>3</td>\n",
       "      <td>NaN</td>\n",
       "      <td>Guatemala</td>\n",
       "      <td>15.7835</td>\n",
       "      <td>-90.2308</td>\n",
       "      <td>2020-03-17</td>\n",
       "      <td>6</td>\n",
       "      <td>1</td>\n",
       "      <td>0</td>\n",
       "      <td>3</td>\n",
       "      <td>1.791759</td>\n",
       "    </tr>\n",
       "    <tr>\n",
       "      <td>4</td>\n",
       "      <td>NaN</td>\n",
       "      <td>Guatemala</td>\n",
       "      <td>15.7835</td>\n",
       "      <td>-90.2308</td>\n",
       "      <td>2020-03-18</td>\n",
       "      <td>6</td>\n",
       "      <td>1</td>\n",
       "      <td>0</td>\n",
       "      <td>4</td>\n",
       "      <td>1.791759</td>\n",
       "    </tr>\n",
       "    <tr>\n",
       "      <td>5</td>\n",
       "      <td>NaN</td>\n",
       "      <td>Guatemala</td>\n",
       "      <td>15.7835</td>\n",
       "      <td>-90.2308</td>\n",
       "      <td>2020-03-19</td>\n",
       "      <td>9</td>\n",
       "      <td>1</td>\n",
       "      <td>0</td>\n",
       "      <td>5</td>\n",
       "      <td>2.197225</td>\n",
       "    </tr>\n",
       "    <tr>\n",
       "      <td>6</td>\n",
       "      <td>NaN</td>\n",
       "      <td>Guatemala</td>\n",
       "      <td>15.7835</td>\n",
       "      <td>-90.2308</td>\n",
       "      <td>2020-03-20</td>\n",
       "      <td>12</td>\n",
       "      <td>1</td>\n",
       "      <td>0</td>\n",
       "      <td>6</td>\n",
       "      <td>2.484907</td>\n",
       "    </tr>\n",
       "    <tr>\n",
       "      <td>7</td>\n",
       "      <td>NaN</td>\n",
       "      <td>Guatemala</td>\n",
       "      <td>15.7835</td>\n",
       "      <td>-90.2308</td>\n",
       "      <td>2020-03-21</td>\n",
       "      <td>17</td>\n",
       "      <td>1</td>\n",
       "      <td>0</td>\n",
       "      <td>7</td>\n",
       "      <td>2.833213</td>\n",
       "    </tr>\n",
       "    <tr>\n",
       "      <td>8</td>\n",
       "      <td>NaN</td>\n",
       "      <td>Guatemala</td>\n",
       "      <td>15.7835</td>\n",
       "      <td>-90.2308</td>\n",
       "      <td>2020-03-22</td>\n",
       "      <td>19</td>\n",
       "      <td>1</td>\n",
       "      <td>0</td>\n",
       "      <td>8</td>\n",
       "      <td>2.944439</td>\n",
       "    </tr>\n",
       "    <tr>\n",
       "      <td>9</td>\n",
       "      <td>NaN</td>\n",
       "      <td>Guatemala</td>\n",
       "      <td>15.7835</td>\n",
       "      <td>-90.2308</td>\n",
       "      <td>2020-03-23</td>\n",
       "      <td>20</td>\n",
       "      <td>1</td>\n",
       "      <td>0</td>\n",
       "      <td>9</td>\n",
       "      <td>2.995732</td>\n",
       "    </tr>\n",
       "  </tbody>\n",
       "</table>\n",
       "</div>"
      ],
      "text/plain": [
       "  Province/State Country/Region      Lat     Long       Date  Confirmed  \\\n",
       "0            NaN      Guatemala  15.7835 -90.2308 2020-03-14          1   \n",
       "1            NaN      Guatemala  15.7835 -90.2308 2020-03-15          1   \n",
       "2            NaN      Guatemala  15.7835 -90.2308 2020-03-16          2   \n",
       "3            NaN      Guatemala  15.7835 -90.2308 2020-03-17          6   \n",
       "4            NaN      Guatemala  15.7835 -90.2308 2020-03-18          6   \n",
       "5            NaN      Guatemala  15.7835 -90.2308 2020-03-19          9   \n",
       "6            NaN      Guatemala  15.7835 -90.2308 2020-03-20         12   \n",
       "7            NaN      Guatemala  15.7835 -90.2308 2020-03-21         17   \n",
       "8            NaN      Guatemala  15.7835 -90.2308 2020-03-22         19   \n",
       "9            NaN      Guatemala  15.7835 -90.2308 2020-03-23         20   \n",
       "\n",
       "   Deaths  Recovered  Id  Ln_confirmed  \n",
       "0       0          0   0      0.000000  \n",
       "1       0          0   1      0.000000  \n",
       "2       1          0   2      0.693147  \n",
       "3       1          0   3      1.791759  \n",
       "4       1          0   4      1.791759  \n",
       "5       1          0   5      2.197225  \n",
       "6       1          0   6      2.484907  \n",
       "7       1          0   7      2.833213  \n",
       "8       1          0   8      2.944439  \n",
       "9       1          0   9      2.995732  "
      ]
     },
     "execution_count": 26,
     "metadata": {},
     "output_type": "execute_result"
    }
   ],
   "source": [
    "GT_confirmed.head(10)"
   ]
  },
  {
   "cell_type": "markdown",
   "metadata": {},
   "source": [
    "Se difinio el limite inicial como *21 de marzo* y el sugerido inicial que era el 22"
   ]
  },
  {
   "cell_type": "code",
   "execution_count": 173,
   "metadata": {},
   "outputs": [
    {
     "data": {
      "text/plain": [
       "<matplotlib.axes._subplots.AxesSubplot at 0x20e5f696d08>"
      ]
     },
     "execution_count": 173,
     "metadata": {},
     "output_type": "execute_result"
    },
    {
     "data": {
      "image/png": "[encoded data removed]",
      "text/plain": [
       "<Figure size 432x288 with 1 Axes>"
      ]
     },
     "metadata": {
      "needs_background": "light"
     },
     "output_type": "display_data"
    }
   ],
   "source": [
    "GT_confirmed_post24 = GT_confirmed[GT_confirmed.Date >= '2020-03-21']\n",
    "GT_confirmed_post24.plot.scatter(x = \"Id\",y=\"Ln_confirmed\")"
   ]
  },
  {
   "cell_type": "code",
   "execution_count": 30,
   "metadata": {},
   "outputs": [],
   "source": [
    "### Objeto del modelo\n",
    "class GradientDesend:\n",
    "    def __init__(self,b0=0.,b1=0.):\n",
    "        tf.reset_default_graph()\n",
    "        self.b0 = tf.get_variable(\"B0\",dtype=tf.float32,\n",
    "                                  shape=[],initializer=tf.constant_initializer(b0))\n",
    "        self.b1 = tf.get_variable(\"B1\",dtype=tf.float32,\n",
    "                                  shape=[],initializer=tf.constant_initializer(b1))\n",
    "        self.error = tf.get_variable(\"error\",dtype=tf.float32,\n",
    "                                  shape=[],initializer=tf.zeros_initializer())\n",
    "        \n",
    "    def step(self,x,y,lr):\n",
    "        # hipotesis\n",
    "        yhat = tf.matmul(x,[[self.b0],[self.b1]],name=\"yhat\") \n",
    "\n",
    "        error = tf.reduce_mean(tf.math.square(y - yhat) ,name=\"reduce_mean\")/2\n",
    "\n",
    "        grad = tf.gradients(error,[self.b0,self.b1], name = \"gradients\")\n",
    "        \n",
    "        \n",
    "        local_b0 = tf.assign(self.b0, self.b0 - lr*grad[0] , name=\"assign_b0\")\n",
    "        local_b1 = tf.assign(self.b1, self.b1 - lr*grad[1] , name=\"assign_b1\")\n",
    "        local_error = tf.assign(self.error, error , name=\"assign_error\")\n",
    "        \n",
    "        \n",
    "        salida = tf.group(local_b0,local_b1,local_error, name=\"grupo\")\n",
    "\n",
    "        return salida"
   ]
  },
  {
   "cell_type": "code",
   "execution_count": 237,
   "metadata": {},
   "outputs": [
    {
     "name": "stdout",
     "output_type": "stream",
     "text": [
      "INFO:tensorflow:Graph was finalized.\n",
      "INFO:tensorflow:Running local_init_op.\n",
      "INFO:tensorflow:Done running local_init_op.\n",
      "0.08516215 2.0040746 0.012906948\n",
      "0.08513822 2.00604 0.0128790215\n",
      "0.08510892 2.0079987 0.012869404\n",
      "0.08507979 2.0099478 0.012859825\n",
      "0.085050754 2.0118897 0.012850311\n",
      "0.08502185 2.0138228 0.012840836\n",
      "0.08499306 2.0157485 0.012831447\n",
      "0.084964395 2.0176656 0.012822062\n",
      "0.084935844 2.019575 0.0128127225\n",
      "0.08490741 2.0214763 0.012803449\n",
      "0.08487912 2.0233686 0.012794204\n",
      "0.084850945 2.0252533 0.012785044\n",
      "0.084822856 2.0271318 0.012775901\n",
      "0.084794894 2.029002 0.012766791\n",
      "0.08476707 2.0308633 0.012757769\n",
      "0.08473936 2.0327172 0.012748728\n",
      "0.08471177 2.0345623 0.012739766\n",
      "0.084684275 2.0364006 0.012730872\n",
      "0.08465692 2.0382314 0.01272198\n",
      "0.08462964 2.0400553 0.012713175\n",
      "y = 0.08460792154073715x + 2.0415077209472656 [0.012706146575510502]\n"
     ]
    }
   ],
   "source": [
    "tf.reset_default_graph()\n",
    "\n",
    "\n",
    "# valores iniciales\n",
    "init_b0 = 0\n",
    "init_b1 = 2\n",
    "lr = 0.0005\n",
    "status = 5\n",
    "largo = len(GT_confirmed_post24[\"Id\"])\n",
    "batch_size = 5 \n",
    "epochs = 100\n",
    "iteraciones = int(largo/batch_size)\n",
    "gd = GradientDesend(init_b0,init_b1)\n",
    "\n",
    "dat_x = tf.placeholder(tf.float32,[None,2],\"Value_x\")\n",
    "dat_y = tf.placeholder(tf.float32,[None],\"Value_y\")\n",
    "\n",
    "step = gd.step(dat_x,dat_y,lr)\n",
    "\n",
    "# se agrega unos a los valores de X para operarlo como matriz\n",
    "nc = np.ones_like(GT_confirmed_post24[\"Id\"])\n",
    "x = np.hstack((np.expand_dims(GT_confirmed_post24[\"Id\"],1),np.expand_dims(nc,1))) \n",
    "\n",
    "\n",
    "error_summary = tf.summary.scalar('error', gd.error)\n",
    "\n",
    "with tf.train.MonitoredSession() as session:\n",
    "    localdir = \"logs_tarea2/MiniBgradient_\" + datetime.now().strftime(\"%Y%m%d-%H%M%S\") + \"_lr=\" + str(lr) + \"_b0=\"+ str(init_b0) + \"_b1=\"+ str(init_b1)\n",
    "    writer = tf.summary.FileWriter(localdir , session.graph)\n",
    "\n",
    "    \n",
    "    for i in range(epochs):\n",
    "        for j in range(iteraciones):\n",
    "            inicio = j * batch_size\n",
    "            fin = inicio + batch_size\n",
    "            \n",
    "            feed_dict = {dat_x:x[inicio:fin], dat_y:GT_confirmed_post24[\"Ln_confirmed\"][inicio:fin]}\n",
    "            session.run(step,feed_dict=feed_dict)\n",
    "            summary = session.run(error_summary,feed_dict=feed_dict)\n",
    "            writer.add_summary(summary, i)\n",
    "        if i%status ==0:\n",
    "            b0,b1,error = session.run([gd.b0,gd.b1,gd.error],feed_dict=feed_dict)\n",
    "            print(b0,b1,error)\n",
    "    \n",
    "    \n",
    "    b0,b1,error = session.run([gd.b0,gd.b1,gd.error],feed_dict=feed_dict)\n",
    "    print(\"y = {}x + {} [{}]\".format(b0,b1,error))"
   ]
  },
  {
   "cell_type": "markdown",
   "metadata": {},
   "source": [
    "##### Visualizacion de resultado\n",
    "Grafica de prediccion"
   ]
  },
  {
   "cell_type": "code",
   "execution_count": 238,
   "metadata": {},
   "outputs": [
    {
     "data": {
      "text/plain": [
       "[<matplotlib.lines.Line2D at 0x20e61e64388>]"
      ]
     },
     "execution_count": 238,
     "metadata": {},
     "output_type": "execute_result"
    },
    {
     "data": {
      "image/png": "[encoded data removed]",
      "text/plain": [
       "<Figure size 432x288 with 1 Axes>"
      ]
     },
     "metadata": {
      "needs_background": "light"
     },
     "output_type": "display_data"
    }
   ],
   "source": [
    "yhat = GT_confirmed_post24[\"Id\"] * b0 + b1\n",
    "plt.scatter(GT_confirmed_post24[\"Id\"],GT_confirmed_post24[\"Ln_confirmed\"])\n",
    "plt.plot(GT_confirmed_post24[\"Id\"],yhat,label=str(i))"
   ]
  },
  {
   "cell_type": "markdown",
   "metadata": {},
   "source": [
    "#### Prueba del modelo para 6 de junio\n",
    "\n",
    "Una vez entrenado el modelo usarlo para aproximar la cantidad de casos confirmados para el *6 de Junio*. Se debe reportar la cantidad de casos, no la cantidad transformada obtenida.\n",
    "\n",
    "Seria para el **Id = 84**"
   ]
  },
  {
   "cell_type": "code",
   "execution_count": 231,
   "metadata": {},
   "outputs": [
    {
     "data": {
      "text/html": [
       "<div>\n",
       "<style scoped>\n",
       "    .dataframe tbody tr th:only-of-type {\n",
       "        vertical-align: middle;\n",
       "    }\n",
       "\n",
       "    .dataframe tbody tr th {\n",
       "        vertical-align: top;\n",
       "    }\n",
       "\n",
       "    .dataframe thead th {\n",
       "        text-align: right;\n",
       "    }\n",
       "</style>\n",
       "<table border=\"1\" class=\"dataframe\">\n",
       "  <thead>\n",
       "    <tr style=\"text-align: right;\">\n",
       "      <th></th>\n",
       "      <th>Province/State</th>\n",
       "      <th>Country/Region</th>\n",
       "      <th>Lat</th>\n",
       "      <th>Long</th>\n",
       "      <th>Date</th>\n",
       "      <th>Confirmed</th>\n",
       "      <th>Deaths</th>\n",
       "      <th>Recovered</th>\n",
       "      <th>Id</th>\n",
       "      <th>Ln_confirmed</th>\n",
       "      <th>yhat</th>\n",
       "    </tr>\n",
       "  </thead>\n",
       "  <tbody>\n",
       "    <tr>\n",
       "      <td>62</td>\n",
       "      <td>NaN</td>\n",
       "      <td>Guatemala</td>\n",
       "      <td>15.7835</td>\n",
       "      <td>-90.2308</td>\n",
       "      <td>2020-05-15</td>\n",
       "      <td>1643</td>\n",
       "      <td>30</td>\n",
       "      <td>135</td>\n",
       "      <td>62</td>\n",
       "      <td>7.404279</td>\n",
       "      <td>7.287199</td>\n",
       "    </tr>\n",
       "    <tr>\n",
       "      <td>63</td>\n",
       "      <td>NaN</td>\n",
       "      <td>Guatemala</td>\n",
       "      <td>15.7835</td>\n",
       "      <td>-90.2308</td>\n",
       "      <td>2020-05-16</td>\n",
       "      <td>1763</td>\n",
       "      <td>33</td>\n",
       "      <td>138</td>\n",
       "      <td>63</td>\n",
       "      <td>7.474772</td>\n",
       "      <td>7.371807</td>\n",
       "    </tr>\n",
       "    <tr>\n",
       "      <td>64</td>\n",
       "      <td>NaN</td>\n",
       "      <td>Guatemala</td>\n",
       "      <td>15.7835</td>\n",
       "      <td>-90.2308</td>\n",
       "      <td>2020-05-17</td>\n",
       "      <td>1763</td>\n",
       "      <td>33</td>\n",
       "      <td>138</td>\n",
       "      <td>64</td>\n",
       "      <td>7.474772</td>\n",
       "      <td>7.456415</td>\n",
       "    </tr>\n",
       "    <tr>\n",
       "      <td>65</td>\n",
       "      <td>NaN</td>\n",
       "      <td>Guatemala</td>\n",
       "      <td>15.7835</td>\n",
       "      <td>-90.2308</td>\n",
       "      <td>2020-05-18</td>\n",
       "      <td>1912</td>\n",
       "      <td>35</td>\n",
       "      <td>138</td>\n",
       "      <td>65</td>\n",
       "      <td>7.555905</td>\n",
       "      <td>7.541023</td>\n",
       "    </tr>\n",
       "    <tr>\n",
       "      <td>66</td>\n",
       "      <td>NaN</td>\n",
       "      <td>Guatemala</td>\n",
       "      <td>15.7835</td>\n",
       "      <td>-90.2308</td>\n",
       "      <td>2020-05-19</td>\n",
       "      <td>2133</td>\n",
       "      <td>43</td>\n",
       "      <td>155</td>\n",
       "      <td>66</td>\n",
       "      <td>7.665285</td>\n",
       "      <td>7.625631</td>\n",
       "    </tr>\n",
       "  </tbody>\n",
       "</table>\n",
       "</div>"
      ],
      "text/plain": [
       "   Province/State Country/Region      Lat     Long       Date  Confirmed  \\\n",
       "62            NaN      Guatemala  15.7835 -90.2308 2020-05-15       1643   \n",
       "63            NaN      Guatemala  15.7835 -90.2308 2020-05-16       1763   \n",
       "64            NaN      Guatemala  15.7835 -90.2308 2020-05-17       1763   \n",
       "65            NaN      Guatemala  15.7835 -90.2308 2020-05-18       1912   \n",
       "66            NaN      Guatemala  15.7835 -90.2308 2020-05-19       2133   \n",
       "\n",
       "    Deaths  Recovered  Id  Ln_confirmed      yhat  \n",
       "62      30        135  62      7.404279  7.287199  \n",
       "63      33        138  63      7.474772  7.371807  \n",
       "64      33        138  64      7.474772  7.456415  \n",
       "65      35        138  65      7.555905  7.541023  \n",
       "66      43        155  66      7.665285  7.625631  "
      ]
     },
     "execution_count": 231,
     "metadata": {},
     "output_type": "execute_result"
    }
   ],
   "source": [
    "GT_confirmed_post24.tail(5)"
   ]
  },
  {
   "cell_type": "code",
   "execution_count": 232,
   "metadata": {},
   "outputs": [
    {
     "data": {
      "text/plain": [
       "9.148573130369186"
      ]
     },
     "execution_count": 232,
     "metadata": {},
     "output_type": "execute_result"
    }
   ],
   "source": [
    "id_pronostico = 84\n",
    "estimacion_inicial = id_pronostico * b0 + b1\n",
    "estimacion_inicial"
   ]
  },
  {
   "cell_type": "code",
   "execution_count": 233,
   "metadata": {},
   "outputs": [
    {
     "data": {
      "text/plain": [
       "9401.016778831738"
      ]
     },
     "execution_count": 233,
     "metadata": {},
     "output_type": "execute_result"
    }
   ],
   "source": [
    "proyeccion = np.exp(estimacion_inicial)\n",
    "proyeccion"
   ]
  },
  {
   "cell_type": "markdown",
   "metadata": {},
   "source": [
    "La proyeccion para el 6 de junio es **9,401**"
   ]
  },
  {
   "cell_type": "markdown",
   "metadata": {},
   "source": [
    "#### Conclusiones"
   ]
  },
  {
   "cell_type": "markdown",
   "metadata": {},
   "source": [
    "En los primeros experimentos se utilizo Batch Gradient Descent y los resultados a pesar que eran convergentes no se logro tener una buena aproximacion; las mejores reducciones estaban alrededor de un *3.58*; como se muestra en la siguiente imagen (en la ruta [log_tarea2_GD](https://github.com/HectorMendia/StatisticalLearning1/tree/master/log_tarea2_GD) estan las ejecuciones y configuraciones)\n",
    "\n",
    "<img src=\"Tarea2Scalar.PNG\" width=\"1000px\">\n",
    "\n",
    "Cuando se cambio a un proceso de MiniBatch, el error se redujo significativamente a *0.012706* \n",
    "\n",
    "<img src=\"Tarea2ScalarMB.PNG\" width=\"1000px\">\n",
    "\n",
    "El mejor resultado de experimiento se encontro con los parametros:\n",
    "* Learning rate = 0.0005\n",
    "* beta0 = 0\n",
    "* beta1 = 2 \n",
    "* ephocs = 100\n",
    "\n",
    "Algo importante para lograr tener una buena aproximacion de la regresion fue asignar el valor b1 = 2 y no dejarlo con inicializacion 0; esto redujo significativamente la cantidad de iteraciones para reducir el error en este caso aproximadamente a la mitad (en la ruta [logs_tarea2](https://github.com/HectorMendia/StatisticalLearning1/tree/master/logs_tarea2) estan las ejecuciones y configuraciones)\n",
    "\n",
    "#### b0 = 0\n",
    "\n",
    "<img src=\"Tarea2ScalarMB_b00_b10.PNG\" width=\"1000px\">\n",
    "\n",
    "#### b0 = 2\n",
    "\n",
    "<img src=\"Tarea2ScalarMB_b00_b12.PNG\" width=\"1000px\">\n",
    "\n"
   ]
  },
  {
   "cell_type": "markdown",
   "metadata": {},
   "source": [
    "### Parte 2 - Modelo polinomial de calidad de vinos"
   ]
  },
  {
   "cell_type": "markdown",
   "metadata": {},
   "source": [
    "Es permitido utilizar [sklearn.preprocessing.polynomialfeatures](https://scikit-learn.org/stable/modules/generated/sklearn.preprocessing.PolynomialFeatures.html)\n",
    "\n",
    "\n",
    "### Instrucciones\n",
    "\n",
    "1. Seleccionar y transformar(generando las combinaciones polinomiales para un polinomio de grado dos o tres a elección) las features que considere que son las mejores para predecir la calidad del vino, utilizar como minimo 2 features. Para seleccionar las features, hacer un analisis exploratorio por ejemplo(pero no limitado a ):  graficando y viendo la forma en que se comportan los datos.\n",
    "\n",
    " Por ejemplo, se tienen las features \"a\" y \"b\" y seleccionamos polinomio de grado 2, hacemos feature engineering para obtener :\n",
    " \n",
    " $[a,b,a^{2},b^{2},ab]$\n",
    " \n",
    " No olvidar el \"bias\" (parámetro multiplicado por 1) ,con lo cual el dataset puede quedar con las columnas:\n",
    " \n",
    " $[1,a,b,a^{2},b^{2},ab]$\n",
    "2. Una vez transformada la data aplicar regresion lineal con las features polinomiales usando Tensorflow.\n",
    "\n",
    "Requisitos adicionales:\n",
    "* Se debe agregar al notebook un screenshot del grafo de tensorboard, simplificando(usando  names , y name_scope como visto en clase).\n",
    "\n",
    "* Se debe generar un directorio de logs de tensorboard para cada corrida/experimento , con cada directorio identificando facilmente la configuración del experimento como visto en clase, por ejemplo para un experimento con learning rate = 0.1 , y polinomio grado 2  crear un directorio: lr=0.1_polinomio_grado=2. (Agregar al notebook un screenshot de estas gráficas)\n",
    "\n",
    "* Concluir en markdown cual es el mejor modelo para este caso basado en la comparativa entre curvas de costo/error en tensorboard."
   ]
  },
  {
   "cell_type": "code",
   "execution_count": 56,
   "metadata": {},
   "outputs": [],
   "source": [
    "data = pd.read_csv('winequality-red.csv')"
   ]
  },
  {
   "cell_type": "markdown",
   "metadata": {},
   "source": [
    "### Red Wine Quality Data\n",
    "\n",
    "Se aplicará regresión para crear un modelo de la calidad de vino en función de características del mismo, siendo 1 el peor vino y 10 el mejor.\n",
    "\n",
    "Variables de entrada:\n",
    "1. fixed acidity \n",
    "2. volatile acidity \n",
    "3. citric acid \n",
    "4. residual sugar \n",
    "5. chlorides \n",
    "6. free sulfur dioxide \n",
    "7. total sulfur dioxide \n",
    "8. density \n",
    "9. pH \n",
    "10. sulphates \n",
    "11. alcohol \n",
    "\n",
    "Varaible a predecir: \n",
    "12. quality (puntuacion  entre 0 y 10) \n",
    "\n"
   ]
  },
  {
   "cell_type": "code",
   "execution_count": 57,
   "metadata": {},
   "outputs": [
    {
     "data": {
      "text/html": [
       "<div>\n",
       "<style scoped>\n",
       "    .dataframe tbody tr th:only-of-type {\n",
       "        vertical-align: middle;\n",
       "    }\n",
       "\n",
       "    .dataframe tbody tr th {\n",
       "        vertical-align: top;\n",
       "    }\n",
       "\n",
       "    .dataframe thead th {\n",
       "        text-align: right;\n",
       "    }\n",
       "</style>\n",
       "<table border=\"1\" class=\"dataframe\">\n",
       "  <thead>\n",
       "    <tr style=\"text-align: right;\">\n",
       "      <th></th>\n",
       "      <th>fixed acidity</th>\n",
       "      <th>volatile acidity</th>\n",
       "      <th>citric acid</th>\n",
       "      <th>residual sugar</th>\n",
       "      <th>chlorides</th>\n",
       "      <th>free sulfur dioxide</th>\n",
       "      <th>total sulfur dioxide</th>\n",
       "      <th>density</th>\n",
       "      <th>pH</th>\n",
       "      <th>sulphates</th>\n",
       "      <th>alcohol</th>\n",
       "      <th>quality</th>\n",
       "    </tr>\n",
       "  </thead>\n",
       "  <tbody>\n",
       "    <tr>\n",
       "      <td>0</td>\n",
       "      <td>7.4</td>\n",
       "      <td>0.70</td>\n",
       "      <td>0.00</td>\n",
       "      <td>1.9</td>\n",
       "      <td>0.076</td>\n",
       "      <td>11.0</td>\n",
       "      <td>34.0</td>\n",
       "      <td>0.9978</td>\n",
       "      <td>3.51</td>\n",
       "      <td>0.56</td>\n",
       "      <td>9.4</td>\n",
       "      <td>5</td>\n",
       "    </tr>\n",
       "    <tr>\n",
       "      <td>1</td>\n",
       "      <td>7.8</td>\n",
       "      <td>0.88</td>\n",
       "      <td>0.00</td>\n",
       "      <td>2.6</td>\n",
       "      <td>0.098</td>\n",
       "      <td>25.0</td>\n",
       "      <td>67.0</td>\n",
       "      <td>0.9968</td>\n",
       "      <td>3.20</td>\n",
       "      <td>0.68</td>\n",
       "      <td>9.8</td>\n",
       "      <td>5</td>\n",
       "    </tr>\n",
       "    <tr>\n",
       "      <td>2</td>\n",
       "      <td>7.8</td>\n",
       "      <td>0.76</td>\n",
       "      <td>0.04</td>\n",
       "      <td>2.3</td>\n",
       "      <td>0.092</td>\n",
       "      <td>15.0</td>\n",
       "      <td>54.0</td>\n",
       "      <td>0.9970</td>\n",
       "      <td>3.26</td>\n",
       "      <td>0.65</td>\n",
       "      <td>9.8</td>\n",
       "      <td>5</td>\n",
       "    </tr>\n",
       "    <tr>\n",
       "      <td>3</td>\n",
       "      <td>11.2</td>\n",
       "      <td>0.28</td>\n",
       "      <td>0.56</td>\n",
       "      <td>1.9</td>\n",
       "      <td>0.075</td>\n",
       "      <td>17.0</td>\n",
       "      <td>60.0</td>\n",
       "      <td>0.9980</td>\n",
       "      <td>3.16</td>\n",
       "      <td>0.58</td>\n",
       "      <td>9.8</td>\n",
       "      <td>6</td>\n",
       "    </tr>\n",
       "    <tr>\n",
       "      <td>4</td>\n",
       "      <td>7.4</td>\n",
       "      <td>0.70</td>\n",
       "      <td>0.00</td>\n",
       "      <td>1.9</td>\n",
       "      <td>0.076</td>\n",
       "      <td>11.0</td>\n",
       "      <td>34.0</td>\n",
       "      <td>0.9978</td>\n",
       "      <td>3.51</td>\n",
       "      <td>0.56</td>\n",
       "      <td>9.4</td>\n",
       "      <td>5</td>\n",
       "    </tr>\n",
       "  </tbody>\n",
       "</table>\n",
       "</div>"
      ],
      "text/plain": [
       "   fixed acidity  volatile acidity  citric acid  residual sugar  chlorides  \\\n",
       "0            7.4              0.70         0.00             1.9      0.076   \n",
       "1            7.8              0.88         0.00             2.6      0.098   \n",
       "2            7.8              0.76         0.04             2.3      0.092   \n",
       "3           11.2              0.28         0.56             1.9      0.075   \n",
       "4            7.4              0.70         0.00             1.9      0.076   \n",
       "\n",
       "   free sulfur dioxide  total sulfur dioxide  density    pH  sulphates  \\\n",
       "0                 11.0                  34.0   0.9978  3.51       0.56   \n",
       "1                 25.0                  67.0   0.9968  3.20       0.68   \n",
       "2                 15.0                  54.0   0.9970  3.26       0.65   \n",
       "3                 17.0                  60.0   0.9980  3.16       0.58   \n",
       "4                 11.0                  34.0   0.9978  3.51       0.56   \n",
       "\n",
       "   alcohol  quality  \n",
       "0      9.4        5  \n",
       "1      9.8        5  \n",
       "2      9.8        5  \n",
       "3      9.8        6  \n",
       "4      9.4        5  "
      ]
     },
     "execution_count": 57,
     "metadata": {},
     "output_type": "execute_result"
    }
   ],
   "source": [
    "data.head()"
   ]
  },
  {
   "cell_type": "code",
   "execution_count": 62,
   "metadata": {},
   "outputs": [
    {
     "data": {
      "text/html": [
       "<div>\n",
       "<style scoped>\n",
       "    .dataframe tbody tr th:only-of-type {\n",
       "        vertical-align: middle;\n",
       "    }\n",
       "\n",
       "    .dataframe tbody tr th {\n",
       "        vertical-align: top;\n",
       "    }\n",
       "\n",
       "    .dataframe thead th {\n",
       "        text-align: right;\n",
       "    }\n",
       "</style>\n",
       "<table border=\"1\" class=\"dataframe\">\n",
       "  <thead>\n",
       "    <tr style=\"text-align: right;\">\n",
       "      <th></th>\n",
       "      <th>fixed acidity</th>\n",
       "      <th>volatile acidity</th>\n",
       "      <th>citric acid</th>\n",
       "      <th>residual sugar</th>\n",
       "      <th>chlorides</th>\n",
       "      <th>free sulfur dioxide</th>\n",
       "      <th>total sulfur dioxide</th>\n",
       "      <th>density</th>\n",
       "      <th>pH</th>\n",
       "      <th>sulphates</th>\n",
       "      <th>alcohol</th>\n",
       "      <th>quality</th>\n",
       "    </tr>\n",
       "  </thead>\n",
       "  <tbody>\n",
       "    <tr>\n",
       "      <td>count</td>\n",
       "      <td>1599.000000</td>\n",
       "      <td>1599.000000</td>\n",
       "      <td>1599.000000</td>\n",
       "      <td>1599.000000</td>\n",
       "      <td>1599.000000</td>\n",
       "      <td>1599.000000</td>\n",
       "      <td>1599.000000</td>\n",
       "      <td>1599.000000</td>\n",
       "      <td>1599.000000</td>\n",
       "      <td>1599.000000</td>\n",
       "      <td>1599.000000</td>\n",
       "      <td>1599.000000</td>\n",
       "    </tr>\n",
       "    <tr>\n",
       "      <td>mean</td>\n",
       "      <td>8.319637</td>\n",
       "      <td>0.527821</td>\n",
       "      <td>0.270976</td>\n",
       "      <td>2.538806</td>\n",
       "      <td>0.087467</td>\n",
       "      <td>15.874922</td>\n",
       "      <td>46.467792</td>\n",
       "      <td>0.996747</td>\n",
       "      <td>3.311113</td>\n",
       "      <td>0.658149</td>\n",
       "      <td>10.422983</td>\n",
       "      <td>5.636023</td>\n",
       "    </tr>\n",
       "    <tr>\n",
       "      <td>std</td>\n",
       "      <td>1.741096</td>\n",
       "      <td>0.179060</td>\n",
       "      <td>0.194801</td>\n",
       "      <td>1.409928</td>\n",
       "      <td>0.047065</td>\n",
       "      <td>10.460157</td>\n",
       "      <td>32.895324</td>\n",
       "      <td>0.001887</td>\n",
       "      <td>0.154386</td>\n",
       "      <td>0.169507</td>\n",
       "      <td>1.065668</td>\n",
       "      <td>0.807569</td>\n",
       "    </tr>\n",
       "    <tr>\n",
       "      <td>min</td>\n",
       "      <td>4.600000</td>\n",
       "      <td>0.120000</td>\n",
       "      <td>0.000000</td>\n",
       "      <td>0.900000</td>\n",
       "      <td>0.012000</td>\n",
       "      <td>1.000000</td>\n",
       "      <td>6.000000</td>\n",
       "      <td>0.990070</td>\n",
       "      <td>2.740000</td>\n",
       "      <td>0.330000</td>\n",
       "      <td>8.400000</td>\n",
       "      <td>3.000000</td>\n",
       "    </tr>\n",
       "    <tr>\n",
       "      <td>25%</td>\n",
       "      <td>7.100000</td>\n",
       "      <td>0.390000</td>\n",
       "      <td>0.090000</td>\n",
       "      <td>1.900000</td>\n",
       "      <td>0.070000</td>\n",
       "      <td>7.000000</td>\n",
       "      <td>22.000000</td>\n",
       "      <td>0.995600</td>\n",
       "      <td>3.210000</td>\n",
       "      <td>0.550000</td>\n",
       "      <td>9.500000</td>\n",
       "      <td>5.000000</td>\n",
       "    </tr>\n",
       "    <tr>\n",
       "      <td>50%</td>\n",
       "      <td>7.900000</td>\n",
       "      <td>0.520000</td>\n",
       "      <td>0.260000</td>\n",
       "      <td>2.200000</td>\n",
       "      <td>0.079000</td>\n",
       "      <td>14.000000</td>\n",
       "      <td>38.000000</td>\n",
       "      <td>0.996750</td>\n",
       "      <td>3.310000</td>\n",
       "      <td>0.620000</td>\n",
       "      <td>10.200000</td>\n",
       "      <td>6.000000</td>\n",
       "    </tr>\n",
       "    <tr>\n",
       "      <td>75%</td>\n",
       "      <td>9.200000</td>\n",
       "      <td>0.640000</td>\n",
       "      <td>0.420000</td>\n",
       "      <td>2.600000</td>\n",
       "      <td>0.090000</td>\n",
       "      <td>21.000000</td>\n",
       "      <td>62.000000</td>\n",
       "      <td>0.997835</td>\n",
       "      <td>3.400000</td>\n",
       "      <td>0.730000</td>\n",
       "      <td>11.100000</td>\n",
       "      <td>6.000000</td>\n",
       "    </tr>\n",
       "    <tr>\n",
       "      <td>max</td>\n",
       "      <td>15.900000</td>\n",
       "      <td>1.580000</td>\n",
       "      <td>1.000000</td>\n",
       "      <td>15.500000</td>\n",
       "      <td>0.611000</td>\n",
       "      <td>72.000000</td>\n",
       "      <td>289.000000</td>\n",
       "      <td>1.003690</td>\n",
       "      <td>4.010000</td>\n",
       "      <td>2.000000</td>\n",
       "      <td>14.900000</td>\n",
       "      <td>8.000000</td>\n",
       "    </tr>\n",
       "  </tbody>\n",
       "</table>\n",
       "</div>"
      ],
      "text/plain": [
       "       fixed acidity  volatile acidity  citric acid  residual sugar  \\\n",
       "count    1599.000000       1599.000000  1599.000000     1599.000000   \n",
       "mean        8.319637          0.527821     0.270976        2.538806   \n",
       "std         1.741096          0.179060     0.194801        1.409928   \n",
       "min         4.600000          0.120000     0.000000        0.900000   \n",
       "25%         7.100000          0.390000     0.090000        1.900000   \n",
       "50%         7.900000          0.520000     0.260000        2.200000   \n",
       "75%         9.200000          0.640000     0.420000        2.600000   \n",
       "max        15.900000          1.580000     1.000000       15.500000   \n",
       "\n",
       "         chlorides  free sulfur dioxide  total sulfur dioxide      density  \\\n",
       "count  1599.000000          1599.000000           1599.000000  1599.000000   \n",
       "mean      0.087467            15.874922             46.467792     0.996747   \n",
       "std       0.047065            10.460157             32.895324     0.001887   \n",
       "min       0.012000             1.000000              6.000000     0.990070   \n",
       "25%       0.070000             7.000000             22.000000     0.995600   \n",
       "50%       0.079000            14.000000             38.000000     0.996750   \n",
       "75%       0.090000            21.000000             62.000000     0.997835   \n",
       "max       0.611000            72.000000            289.000000     1.003690   \n",
       "\n",
       "                pH    sulphates      alcohol      quality  \n",
       "count  1599.000000  1599.000000  1599.000000  1599.000000  \n",
       "mean      3.311113     0.658149    10.422983     5.636023  \n",
       "std       0.154386     0.169507     1.065668     0.807569  \n",
       "min       2.740000     0.330000     8.400000     3.000000  \n",
       "25%       3.210000     0.550000     9.500000     5.000000  \n",
       "50%       3.310000     0.620000    10.200000     6.000000  \n",
       "75%       3.400000     0.730000    11.100000     6.000000  \n",
       "max       4.010000     2.000000    14.900000     8.000000  "
      ]
     },
     "execution_count": 62,
     "metadata": {},
     "output_type": "execute_result"
    }
   ],
   "source": [
    "data.describe()"
   ]
  },
  {
   "cell_type": "code",
   "execution_count": 105,
   "metadata": {},
   "outputs": [
    {
     "data": {
      "text/plain": [
       "<matplotlib.axes._subplots.AxesSubplot at 0x20e621aa408>"
      ]
     },
     "execution_count": 105,
     "metadata": {},
     "output_type": "execute_result"
    },
    {
     "data": {
      "image/png": "[encoded data removed]",
      "text/plain": [
       "<Figure size 1224x864 with 12 Axes>"
      ]
     },
     "metadata": {
      "needs_background": "light"
     },
     "output_type": "display_data"
    }
   ],
   "source": [
    "f, axes = plt.subplots(3, 4, figsize=(17, 12))\n",
    "sb.distplot( data[\"fixed acidity\"] , ax=axes[0, 0])\n",
    "sb.distplot( data[\"volatile acidity\"] , ax=axes[0, 1])\n",
    "sb.distplot( data[\"citric acid\"] , ax=axes[0, 2])\n",
    "sb.distplot( data[\"residual sugar\"] , ax=axes[0, 3])\n",
    "sb.distplot( data[\"chlorides\"] , ax=axes[1, 0])\n",
    "sb.distplot( data[\"free sulfur dioxide\"] , ax=axes[1, 1])\n",
    "sb.distplot( data[\"total sulfur dioxide\"] , ax=axes[1, 2])\n",
    "sb.distplot( data[\"density\"] , ax=axes[1, 3])\n",
    "sb.distplot( data[\"pH\"] , ax=axes[2, 0])\n",
    "sb.distplot( data[\"sulphates\"] , ax=axes[2, 1])\n",
    "sb.distplot( data[\"nalcohol\"] , ax=axes[2, 2])\n",
    "sb.distplot( data[\"quality\"] , ax=axes[2, 3])\n"
   ]
  },
  {
   "cell_type": "code",
   "execution_count": 108,
   "metadata": {},
   "outputs": [
    {
     "name": "stdout",
     "output_type": "stream",
     "text": [
      "[ 0.12405165 -0.39055778  0.22637251  0.01373164 -0.12890656 -0.05065606\n",
      " -0.18510029 -0.17491923 -0.05773139  0.25139708  0.47616632  1.        ]\n"
     ]
    }
   ],
   "source": [
    "#cof_mat = np.corrcoef([data[cols[1]],dt[cols[2]],dt[cols[3]],dt[cols[4]],dt[cols[5]],dt[\"quality\"]])\n",
    "#coef = cof_mat[5:][0]\n",
    "#coef = np.corrcoef([data[1],data[\"quality\"]])\n",
    "#coef\n",
    "#cof_mat = np.corrcoef(data[[\"fixed acidity\",\"fixed acidity\",\"citric acid\",\"residual sugar\",\"chlorides\",\"free sulfur dioxide\",\"total sulfur dioxide\",\"density\",\"pH\",\"sulphates\",\"alcohol\"]],data[\"quality\"])\n",
    "#cof_mat\n",
    "cof_mat = np.corrcoef([data[\"fixed acidity\"],data[\"volatile acidity\"],data[\"citric acid\"],data[\"residual sugar\"],data[\"chlorides\"],\n",
    "                       data[\"free sulfur dioxide\"],data[\"total sulfur dioxide\"],data[\"density\"],data[\"pH\"],data[\"sulphates\"],data[\"alcohol\"]],data[\"nquality\"])\n",
    "\n",
    "coef = cof_mat[11:][0]     \n",
    "print(coef)"
   ]
  },
  {
   "cell_type": "code",
   "execution_count": 109,
   "metadata": {},
   "outputs": [
    {
     "data": {
      "image/png": "[encoded data removed]",
      "text/plain": [
       "<Figure size 1224x720 with 12 Axes>"
      ]
     },
     "metadata": {
      "needs_background": "light"
     },
     "output_type": "display_data"
    }
   ],
   "source": [
    "fig, axs = plt.subplots(3, 4, figsize=(17, 10))\n",
    "axs[0, 0].scatter(data[\"fixed acidity\"],data[\"quality\"])\n",
    "axs[0, 0].set_title(\"fixed acidity coef: \" + str(coef[0]))\n",
    "\n",
    "axs[0, 1].scatter(data[\"volatile acidity\"],data[\"quality\"])\n",
    "axs[0, 1].set_title(\"volatile acidity coef: \" + str(coef[1]))\n",
    "\n",
    "axs[0, 2].scatter(data[\"citric acid\"],data[\"quality\"])\n",
    "axs[0, 2].set_title(\"citric acid coef: \" + str(coef[2]))\n",
    "\n",
    "axs[0, 3].scatter(data[\"residual sugar\"],data[\"quality\"])\n",
    "axs[0, 3].set_title(\"residual sugar coef: \" + str(coef[3]))\n",
    "\n",
    "axs[1, 0].scatter(data[\"chlorides\"],data[\"quality\"])\n",
    "axs[1, 0].set_title(\"chlorides coef: \" + str(coef[4]))\n",
    "\n",
    "axs[1, 1].scatter(data[\"free sulfur dioxide\"],data[\"quality\"])\n",
    "axs[1, 1].set_title(\"free sulfur dioxide coef: \" + str(coef[5]))\n",
    "\n",
    "axs[1, 2].scatter(data[\"total sulfur dioxide\"],data[\"quality\"])\n",
    "axs[1, 2].set_title(\"total sulfur dioxide coef: \" + str(coef[6]))\n",
    "\n",
    "axs[1, 3].scatter(data[\"density\"],data[\"quality\"])\n",
    "axs[1, 3].set_title(\"density coef: \" + str(coef[7]))\n",
    "\n",
    "axs[2, 0].scatter(data[\"pH\"],data[\"quality\"])\n",
    "axs[2, 0].set_title(\"pH coef: \" + str(coef[8]))\n",
    "\n",
    "axs[2, 1].scatter(data[\"sulphates\"],data[\"quality\"])\n",
    "axs[2, 1].set_title(\"sulphates coef: \" + str(coef[9]))\n",
    "\n",
    "axs[2, 2].scatter(data[\"nalcohol\"],data[\"nquality\"])\n",
    "axs[2, 2].set_title(\"alcohol coef: \" + str(coef[10]))\n",
    "\n",
    "axs[2, 3].scatter(data[\"quality\"],data[\"quality\"])\n",
    "axs[2, 3].set_title(\"quality coef: \" + str(coef[11]))\n",
    "\n",
    "plt.show()"
   ]
  },
  {
   "cell_type": "code",
   "execution_count": null,
   "metadata": {},
   "outputs": [],
   "source": [
    "Se tomaran los datos con mayor indice de correlacion"
   ]
  },
  {
   "cell_type": "code",
   "execution_count": 197,
   "metadata": {},
   "outputs": [],
   "source": [
    "data[\"nfixed acidity\"] = (data[\"fixed acidity\"] - np.min(data[\"fixed acidity\"]))/ (np.max(data[\"fixed acidity\"])-np.min(data[\"fixed acidity\"]))\n",
    "data[\"nvolatile acidity\"] = (data[\"volatile acidity\"] - np.min(data[\"volatile acidity\"]))/ (np.max(data[\"volatile acidity\"])-np.min(data[\"volatile acidity\"]))\n",
    "data[\"ncitric acid\"] = (data[\"citric acid\"] - np.min(data[\"citric acid\"]))/ (np.max(data[\"citric acid\"])-np.min(data[\"citric acid\"]))\n",
    "data[\"nresidual sugar\"] = (data[\"residual sugar\"] - np.min(data[\"residual sugar\"]))/ (np.max(data[\"residual sugar\"])-np.min(data[\"residual sugar\"]))\n",
    "data[\"nchlorides\"] = (data[\"chlorides\"] - np.min(data[\"chlorides\"]))/ (np.max(data[\"chlorides\"])-np.min(data[\"chlorides\"]))\n",
    "data[\"nfree sulfur dioxide\"] = (data[\"free sulfur dioxide\"] - np.min(data[\"free sulfur dioxide\"]))/ (np.max(data[\"free sulfur dioxide\"])-np.min(data[\"free sulfur dioxide\"]))\n",
    "data[\"ntotal sulfur dioxide\"] = (data[\"total sulfur dioxide\"] - np.min(data[\"total sulfur dioxide\"]))/ (np.max(data[\"total sulfur dioxide\"])-np.min(data[\"total sulfur dioxide\"]))\n",
    "data[\"ndensity\"] = (data[\"density\"] - np.min(data[\"density\"]))/ (np.max(data[\"density\"])-np.min(data[\"density\"]))\n",
    "data[\"npH\"] = (data[\"pH\"] - np.min(data[\"pH\"]))/ (np.max(data[\"pH\"])-np.min(data[\"pH\"]))\n",
    "data[\"nsulphates\"] = (data[\"sulphates\"] - np.min(data[\"sulphates\"]))/ (np.max(data[\"sulphates\"])-np.min(data[\"sulphates\"]))\n",
    "data[\"nalcohol\"] = (data[\"alcohol\"] - np.min(data[\"alcohol\"]))/ (np.max(data[\"alcohol\"])-np.min(data[\"alcohol\"]))\n",
    "data[\"nquality\"] = (data[\"quality\"] - np.min(data[\"quality\"]))/ (np.max(data[\"quality\"])-np.min(data[\"quality\"]))"
   ]
  },
  {
   "cell_type": "code",
   "execution_count": 198,
   "metadata": {},
   "outputs": [
    {
     "name": "stdout",
     "output_type": "stream",
     "text": [
      "[ 0.12405165 -0.39055778  0.22637251  0.01373164 -0.12890656 -0.05065606\n",
      " -0.18510029 -0.17491923 -0.05773139  0.25139708  0.47616632  1.        ]\n"
     ]
    }
   ],
   "source": [
    "ncof_mat = np.corrcoef([data[\"nfixed acidity\"],data[\"nvolatile acidity\"],data[\"ncitric acid\"],data[\"nresidual sugar\"],data[\"nchlorides\"],\n",
    "                       data[\"nfree sulfur dioxide\"],data[\"ntotal sulfur dioxide\"],data[\"ndensity\"],data[\"npH\"],data[\"nsulphates\"],data[\"nalcohol\"]],data[\"nquality\"])\n",
    "\n",
    "ncoef = ncof_mat[11:][0]     \n",
    "print(ncoef)"
   ]
  },
  {
   "cell_type": "code",
   "execution_count": 239,
   "metadata": {},
   "outputs": [],
   "source": [
    "from sklearn.preprocessing import PolynomialFeatures"
   ]
  },
  {
   "cell_type": "code",
   "execution_count": 240,
   "metadata": {},
   "outputs": [
    {
     "data": {
      "text/html": [
       "<div>\n",
       "<style scoped>\n",
       "    .dataframe tbody tr th:only-of-type {\n",
       "        vertical-align: middle;\n",
       "    }\n",
       "\n",
       "    .dataframe tbody tr th {\n",
       "        vertical-align: top;\n",
       "    }\n",
       "\n",
       "    .dataframe thead th {\n",
       "        text-align: right;\n",
       "    }\n",
       "</style>\n",
       "<table border=\"1\" class=\"dataframe\">\n",
       "  <thead>\n",
       "    <tr style=\"text-align: right;\">\n",
       "      <th></th>\n",
       "      <th>ncitric acid</th>\n",
       "      <th>nalcohol</th>\n",
       "    </tr>\n",
       "  </thead>\n",
       "  <tbody>\n",
       "    <tr>\n",
       "      <td>0</td>\n",
       "      <td>0.00</td>\n",
       "      <td>0.153846</td>\n",
       "    </tr>\n",
       "    <tr>\n",
       "      <td>1</td>\n",
       "      <td>0.00</td>\n",
       "      <td>0.215385</td>\n",
       "    </tr>\n",
       "    <tr>\n",
       "      <td>2</td>\n",
       "      <td>0.04</td>\n",
       "      <td>0.215385</td>\n",
       "    </tr>\n",
       "    <tr>\n",
       "      <td>3</td>\n",
       "      <td>0.56</td>\n",
       "      <td>0.215385</td>\n",
       "    </tr>\n",
       "    <tr>\n",
       "      <td>4</td>\n",
       "      <td>0.00</td>\n",
       "      <td>0.153846</td>\n",
       "    </tr>\n",
       "    <tr>\n",
       "      <td>...</td>\n",
       "      <td>...</td>\n",
       "      <td>...</td>\n",
       "    </tr>\n",
       "    <tr>\n",
       "      <td>1594</td>\n",
       "      <td>0.08</td>\n",
       "      <td>0.323077</td>\n",
       "    </tr>\n",
       "    <tr>\n",
       "      <td>1595</td>\n",
       "      <td>0.10</td>\n",
       "      <td>0.430769</td>\n",
       "    </tr>\n",
       "    <tr>\n",
       "      <td>1596</td>\n",
       "      <td>0.13</td>\n",
       "      <td>0.400000</td>\n",
       "    </tr>\n",
       "    <tr>\n",
       "      <td>1597</td>\n",
       "      <td>0.12</td>\n",
       "      <td>0.276923</td>\n",
       "    </tr>\n",
       "    <tr>\n",
       "      <td>1598</td>\n",
       "      <td>0.47</td>\n",
       "      <td>0.400000</td>\n",
       "    </tr>\n",
       "  </tbody>\n",
       "</table>\n",
       "<p>1599 rows × 2 columns</p>\n",
       "</div>"
      ],
      "text/plain": [
       "      ncitric acid  nalcohol\n",
       "0             0.00  0.153846\n",
       "1             0.00  0.215385\n",
       "2             0.04  0.215385\n",
       "3             0.56  0.215385\n",
       "4             0.00  0.153846\n",
       "...            ...       ...\n",
       "1594          0.08  0.323077\n",
       "1595          0.10  0.430769\n",
       "1596          0.13  0.400000\n",
       "1597          0.12  0.276923\n",
       "1598          0.47  0.400000\n",
       "\n",
       "[1599 rows x 2 columns]"
      ]
     },
     "execution_count": 240,
     "metadata": {},
     "output_type": "execute_result"
    }
   ],
   "source": [
    "data_wine = data[[\"ncitric acid\",\"nalcohol\"]].copy()\n",
    "data_wine"
   ]
  },
  {
   "cell_type": "code",
   "execution_count": 246,
   "metadata": {},
   "outputs": [
    {
     "data": {
      "text/plain": [
       "array([[1.        , 0.        , 0.15384615, 0.        , 0.        ,\n",
       "        0.02366864],\n",
       "       [1.        , 0.        , 0.21538462, 0.        , 0.        ,\n",
       "        0.04639053],\n",
       "       [1.        , 0.04      , 0.21538462, 0.0016    , 0.00861538,\n",
       "        0.04639053],\n",
       "       ...,\n",
       "       [1.        , 0.13      , 0.4       , 0.0169    , 0.052     ,\n",
       "        0.16      ],\n",
       "       [1.        , 0.12      , 0.27692308, 0.0144    , 0.03323077,\n",
       "        0.07668639],\n",
       "       [1.        , 0.47      , 0.4       , 0.2209    , 0.188     ,\n",
       "        0.16      ]])"
      ]
     },
     "execution_count": 246,
     "metadata": {},
     "output_type": "execute_result"
    }
   ],
   "source": [
    "# Feature Enge\n",
    "feat_eng= PolynomialFeatures(2)\n",
    "feat_wine = feat_eng.fit_transform(data_wine)\n",
    "feat_wine"
   ]
  },
  {
   "cell_type": "code",
   "execution_count": 274,
   "metadata": {},
   "outputs": [
    {
     "data": {
      "text/plain": [
       "(1599, 6)"
      ]
     },
     "execution_count": 274,
     "metadata": {},
     "output_type": "execute_result"
    }
   ],
   "source": [
    "feat_wine.shape"
   ]
  },
  {
   "cell_type": "code",
   "execution_count": 387,
   "metadata": {},
   "outputs": [],
   "source": [
    "### Cambio del modelo para que trabaje con un grado mayor\n",
    "class GradientDesendPol:\n",
    "    def __init__(self):\n",
    "        tf.reset_default_graph()\n",
    "        self.bn = tf.get_variable(\"bns\",dtype=tf.float32,\n",
    "                                  shape=[1,6],initializer =tf.zeros_initializer() )\n",
    "        self.error = tf.get_variable(\"error_total\",dtype=tf.float32,\n",
    "                                  shape=[],initializer=tf.zeros_initializer())\n",
    "        \n",
    "    def step(self,x,y,lr):\n",
    "        # hipotesis\n",
    "        yhat = tf.matmul(x,tf.transpose(self.bn, name = \"transpose\"),name=\"yhat\") \n",
    "\n",
    "        error = tf.reduce_mean(tf.math.square(y - yhat) ,name=\"reduce_mean\")/2\n",
    "\n",
    "        grad = tf.gradients(error,self.bn, name = \"gradients\")\n",
    "        \n",
    "        \n",
    "        local_bn = tf.assign(self.bn, self.bn - tf.multiply(lr,grad,name=\"multi_lr_grad\")[0], name=\"assign_bn\")\n",
    "        local_error = tf.assign(self.error, error , name=\"assign_error\")        \n",
    "        \n",
    "        salida = tf.group(local_bn,local_error, name=\"grupo\")\n",
    "\n",
    "        return salida"
   ]
  },
  {
   "cell_type": "code",
   "execution_count": 388,
   "metadata": {},
   "outputs": [
    {
     "name": "stdout",
     "output_type": "stream",
     "text": [
      "INFO:tensorflow:Graph was finalized.\n",
      "INFO:tensorflow:Running local_init_op.\n",
      "INFO:tensorflow:Done running local_init_op.\n",
      "[[0.11906797 0.03294112 0.03706072 0.01369833 0.01071815 0.01475527]] 0.082025476\n",
      "[[0.47370797 0.06682619 0.09956277 0.01169411 0.00858574 0.01810383]] 0.011843408\n",
      "[[0.48459217 0.05418627 0.08837375 0.00111536 0.00180613 0.00480354]] 0.011771166\n",
      "[[ 0.48747468  0.05163256  0.08547531 -0.00242421  0.00159003 -0.00100809]] 0.011755056\n",
      "[[ 0.48817882  0.05129781  0.08525922 -0.00431978  0.00305898 -0.0044003 ]] 0.011750692\n",
      "y = [ 0.48827586  0.05140343  0.08591517 -0.00580675  0.00491245 -0.00694433] [0.0117495683953166]\n"
     ]
    }
   ],
   "source": [
    "tf.reset_default_graph()\n",
    "\n",
    "\n",
    "# valores iniciales\n",
    "lr = 0.02\n",
    "status = 100\n",
    "largo = len(feat_wine)\n",
    "batch_size = 123\n",
    "epochs = 500\n",
    "iteraciones = int(largo/batch_size)\n",
    "gd = GradientDesendPol()\n",
    "\n",
    "dat_x = tf.placeholder(tf.float32,[None,6],\"Value_x\")\n",
    "dat_y = tf.placeholder(tf.float32,[None],\"Value_y\")\n",
    "\n",
    "step = gd.step(dat_x,dat_y,lr)\n",
    "\n",
    "error_summary = tf.summary.scalar('error', gd.error)\n",
    "\n",
    "with tf.train.MonitoredSession() as session:\n",
    "    localdir = \"logs_tarea2_part2/MBG_\" + datetime.now().strftime(\"%Y%m%d-%H%M%S\") + \"_lr=\" + str(lr) + \"_pol=2_batch=\"+ str(batch_size)\n",
    "    writer = tf.summary.FileWriter(localdir , session.graph)\n",
    "    \n",
    "    for i in range(epochs):\n",
    "        for j in range(iteraciones):\n",
    "            inicio = j * batch_size\n",
    "            fin = inicio + batch_size\n",
    "            \n",
    "            feed_dict = {dat_x:feat_wine[inicio:fin], dat_y:data[\"nquality\"][inicio:fin]}\n",
    "            session.run(step,feed_dict=feed_dict)\n",
    "            summary = session.run(error_summary,feed_dict=feed_dict)\n",
    "            writer.add_summary(summary, i)\n",
    "        if i%status ==0:\n",
    "            bn,error = session.run([gd.bn,gd.error],feed_dict=feed_dict)\n",
    "            print(bn,error)\n",
    "    \n",
    "    \n",
    "    bn,error = session.run([gd.bn,gd.error],feed_dict=feed_dict)\n",
    "    print(\"y = {} [{}]\".format(bn[0],error))"
   ]
  },
  {
   "cell_type": "code",
   "execution_count": null,
   "metadata": {},
   "outputs": [],
   "source": []
  },
  {
   "cell_type": "markdown",
   "metadata": {},
   "source": [
    "#### Conlusion"
   ]
  },
  {
   "cell_type": "markdown",
   "metadata": {},
   "source": [
    "El mejor modelo encontrado segun lo datos recabados es el que tiene un \n",
    " * Learning Rate = 0.02\n",
    " * Tamaño batch = 123\n",
    "\n",
    "Se probararon diversas combinaciones de parametros por encima y po debajo de los mencionando anteriormente y con estos se logro un error de **0.0117495**\n",
    "\n",
    "Esto tambien se puede corroborar con la imagen siguiente\n",
    "<img src=\"Tarea2ScalarMB_lr0002_b123.PNG\" width=\"1000px\">\n",
    "\n",
    "El modelo es el siguiente\n",
    "\n",
    "<img src=\"Tarea2Model_part2.PNG\">\n",
    "\n",
    "Las ejecuciones de prueba del modelo estan en [logs_tarea2_part2](https://github.com/HectorMendia/StatisticalLearning1/tree/master/logs_tarea2_part2); las primeras corridas fueron con menos epochs para tener una idea que que parametros podrian tener una mejor aproximacion a largo plazo\n",
    "\n",
    "*A diferencia de la seccion 1, la inicializacion de valores fue con 0; es posible que con valores distintos se logre una mejor aproximacion como ocurrio en la parte uno de los casos de covid.*\n"
   ]
  },
  {
   "cell_type": "code",
   "execution_count": null,
   "metadata": {},
   "outputs": [],
   "source": []
  }
 ],
 "metadata": {
  "kernelspec": {
   "display_name": "Python 3",
   "language": "python",
   "name": "python3"
  },
  "language_info": {
   "codemirror_mode": {
    "name": "ipython",
    "version": 3
   },
   "file_extension": ".py",
   "mimetype": "text/x-python",
   "name": "python",
   "nbconvert_exporter": "python",
   "pygments_lexer": "ipython3",
   "version": "3.7.4"
  }
 },
 "nbformat": 4,
 "nbformat_minor": 4
}
