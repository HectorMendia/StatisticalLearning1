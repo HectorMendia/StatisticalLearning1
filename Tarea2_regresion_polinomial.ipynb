{
 "cells": [
  {
   "cell_type": "markdown",
   "metadata": {},
   "source": [
    "# Tarea 2 - Regresion Polinomial & Feature engineering\n",
    "\n",
    "### Parte 1 - Modelo exponencial de covid-19 usando feature-eng\n",
    "\n",
    "Usando el ejemplo de covid-19 en el notebook de feature-eng (https://colab.research.google.com/drive/1sJV2HG7tQgCGKES3-dIclzHQJ9qAWB3b?usp=sharing) crear un modelo de covid-19 para Guatemala.\n",
    "\n",
    "* Convertir la fecha a un entero \"número de día\", por ejemplo si se usan datos desde el 22 de abril, este es el día 0, el 23 es el día 1.\n",
    "* Aplicar regresión lineal sobre la variable \"Confirmed\" transformada.\n",
    "* Una vez entrenado el modelo usarlo para aproximar la cantidad de casos confirmados para el 6 de Junio. Se debe reportar la cantidad de casos, no la cantidad transformada obtenida."
   ]
  },
  {
   "cell_type": "code",
   "execution_count": 2,
   "metadata": {},
   "outputs": [],
   "source": [
    "import numpy as np\n",
    "import pandas as pd\n",
    "from matplotlib import pyplot as plt\n",
    "import tensorflow as tf\n",
    "from datetime import datetime"
   ]
  },
  {
   "cell_type": "code",
   "execution_count": 32,
   "metadata": {},
   "outputs": [
    {
     "name": "stdout",
     "output_type": "stream",
     "text": [
      "WARNING:tensorflow:From C:\\Users\\hecto\\AppData\\Local\\Programs\\Anaconda3\\lib\\site-packages\\tensorflow_core\\python\\compat\\v2_compat.py:88: disable_resource_variables (from tensorflow.python.ops.variable_scope) is deprecated and will be removed in a future version.\n",
      "Instructions for updating:\n",
      "non-resource variables are not supported in the long term\n",
      "Enabled compatitility to tf1.x\n"
     ]
    }
   ],
   "source": [
    "if tf.__version__.startswith(\"2.\"):\n",
    "  import tensorflow.compat.v1 as tf\n",
    "  tf.compat.v1.disable_v2_behavior()\n",
    "  tf.compat.v1.disable_eager_execution()\n",
    "  print(\"Enabled compatitility to tf1.x\")"
   ]
  },
  {
   "cell_type": "markdown",
   "metadata": {},
   "source": [
    "#### Carga de datos"
   ]
  },
  {
   "cell_type": "code",
   "execution_count": 4,
   "metadata": {},
   "outputs": [
    {
     "data": {
      "text/html": [
       "<div>\n",
       "<style scoped>\n",
       "    .dataframe tbody tr th:only-of-type {\n",
       "        vertical-align: middle;\n",
       "    }\n",
       "\n",
       "    .dataframe tbody tr th {\n",
       "        vertical-align: top;\n",
       "    }\n",
       "\n",
       "    .dataframe thead th {\n",
       "        text-align: right;\n",
       "    }\n",
       "</style>\n",
       "<table border=\"1\" class=\"dataframe\">\n",
       "  <thead>\n",
       "    <tr style=\"text-align: right;\">\n",
       "      <th></th>\n",
       "      <th>Province/State</th>\n",
       "      <th>Country/Region</th>\n",
       "      <th>Lat</th>\n",
       "      <th>Long</th>\n",
       "      <th>Date</th>\n",
       "      <th>Confirmed</th>\n",
       "      <th>Deaths</th>\n",
       "      <th>Recovered</th>\n",
       "    </tr>\n",
       "  </thead>\n",
       "  <tbody>\n",
       "    <tr>\n",
       "      <td>0</td>\n",
       "      <td>NaN</td>\n",
       "      <td>Afghanistan</td>\n",
       "      <td>33.0000</td>\n",
       "      <td>65.0000</td>\n",
       "      <td>2020-01-22</td>\n",
       "      <td>0</td>\n",
       "      <td>0</td>\n",
       "      <td>0</td>\n",
       "    </tr>\n",
       "    <tr>\n",
       "      <td>1</td>\n",
       "      <td>NaN</td>\n",
       "      <td>Albania</td>\n",
       "      <td>41.1533</td>\n",
       "      <td>20.1683</td>\n",
       "      <td>2020-01-22</td>\n",
       "      <td>0</td>\n",
       "      <td>0</td>\n",
       "      <td>0</td>\n",
       "    </tr>\n",
       "    <tr>\n",
       "      <td>2</td>\n",
       "      <td>NaN</td>\n",
       "      <td>Algeria</td>\n",
       "      <td>28.0339</td>\n",
       "      <td>1.6596</td>\n",
       "      <td>2020-01-22</td>\n",
       "      <td>0</td>\n",
       "      <td>0</td>\n",
       "      <td>0</td>\n",
       "    </tr>\n",
       "    <tr>\n",
       "      <td>3</td>\n",
       "      <td>NaN</td>\n",
       "      <td>Andorra</td>\n",
       "      <td>42.5063</td>\n",
       "      <td>1.5218</td>\n",
       "      <td>2020-01-22</td>\n",
       "      <td>0</td>\n",
       "      <td>0</td>\n",
       "      <td>0</td>\n",
       "    </tr>\n",
       "    <tr>\n",
       "      <td>4</td>\n",
       "      <td>NaN</td>\n",
       "      <td>Angola</td>\n",
       "      <td>-11.2027</td>\n",
       "      <td>17.8739</td>\n",
       "      <td>2020-01-22</td>\n",
       "      <td>0</td>\n",
       "      <td>0</td>\n",
       "      <td>0</td>\n",
       "    </tr>\n",
       "  </tbody>\n",
       "</table>\n",
       "</div>"
      ],
      "text/plain": [
       "  Province/State Country/Region      Lat     Long       Date  Confirmed  \\\n",
       "0            NaN    Afghanistan  33.0000  65.0000 2020-01-22          0   \n",
       "1            NaN        Albania  41.1533  20.1683 2020-01-22          0   \n",
       "2            NaN        Algeria  28.0339   1.6596 2020-01-22          0   \n",
       "3            NaN        Andorra  42.5063   1.5218 2020-01-22          0   \n",
       "4            NaN         Angola -11.2027  17.8739 2020-01-22          0   \n",
       "\n",
       "   Deaths  Recovered  \n",
       "0       0          0  \n",
       "1       0          0  \n",
       "2       0          0  \n",
       "3       0          0  \n",
       "4       0          0  "
      ]
     },
     "execution_count": 4,
     "metadata": {},
     "output_type": "execute_result"
    }
   ],
   "source": [
    "covid19_data = pd.read_csv('covid_19_clean_complete.csv')\n",
    "covid19_data[\"Date\"] = pd.to_datetime(covid19_data[\"Date\"],infer_datetime_format = True)\n",
    "covid19_data.head()"
   ]
  },
  {
   "cell_type": "code",
   "execution_count": 6,
   "metadata": {},
   "outputs": [
    {
     "data": {
      "text/plain": [
       "Province/State            object\n",
       "Country/Region            object\n",
       "Lat                      float64\n",
       "Long                     float64\n",
       "Date              datetime64[ns]\n",
       "Confirmed                  int64\n",
       "Deaths                     int64\n",
       "Recovered                  int64\n",
       "dtype: object"
      ]
     },
     "execution_count": 6,
     "metadata": {},
     "output_type": "execute_result"
    }
   ],
   "source": [
    "covid19_data.dtypes"
   ]
  },
  {
   "cell_type": "code",
   "execution_count": 22,
   "metadata": {},
   "outputs": [
    {
     "data": {
      "text/plain": [
       "<matplotlib.axes._subplots.AxesSubplot at 0x20e56a73888>"
      ]
     },
     "execution_count": 22,
     "metadata": {},
     "output_type": "execute_result"
    },
    {
     "data": {
      "image/png": "[encoded data removed]",
      "text/plain": [
       "<Figure size 432x288 with 1 Axes>"
      ]
     },
     "metadata": {
      "needs_background": "light"
     },
     "output_type": "display_data"
    }
   ],
   "source": [
    "## Filtro de datos\n",
    "GT_confirmed = covid19_data[(covid19_data[\"Country/Region\"] == 'Guatemala') & (covid19_data[\"Confirmed\"] > 0)].copy()\n",
    "\n",
    "# reset de index\n",
    "GT_confirmed = GT_confirmed.reset_index(drop=True)\n",
    "# asignacion\n",
    "GT_confirmed[\"Id\"] = GT_confirmed.index\n",
    "\n",
    "# Despliegue\n",
    "GT_confirmed.plot.scatter(x = \"Id\",y=\"Confirmed\")\n"
   ]
  },
  {
   "cell_type": "code",
   "execution_count": 23,
   "metadata": {},
   "outputs": [
    {
     "data": {
      "text/plain": [
       "<matplotlib.axes._subplots.AxesSubplot at 0x20e56d9f5c8>"
      ]
     },
     "execution_count": 23,
     "metadata": {},
     "output_type": "execute_result"
    },
    {
     "data": {
      "image/png": "[encoded data removed]",
      "text/plain": [
       "<Figure size 432x288 with 1 Axes>"
      ]
     },
     "metadata": {
      "needs_background": "light"
     },
     "output_type": "display_data"
    }
   ],
   "source": [
    "# Transformacion\n",
    "GT_confirmed[\"Ln_confirmed\"] = np.log(GT_confirmed[\"Confirmed\"])\n",
    "GT_confirmed.plot.scatter(x = \"Id\",y=\"Ln_confirmed\")"
   ]
  },
  {
   "cell_type": "code",
   "execution_count": 26,
   "metadata": {},
   "outputs": [
    {
     "data": {
      "text/html": [
       "<div>\n",
       "<style scoped>\n",
       "    .dataframe tbody tr th:only-of-type {\n",
       "        vertical-align: middle;\n",
       "    }\n",
       "\n",
       "    .dataframe tbody tr th {\n",
       "        vertical-align: top;\n",
       "    }\n",
       "\n",
       "    .dataframe thead th {\n",
       "        text-align: right;\n",
       "    }\n",
       "</style>\n",
       "<table border=\"1\" class=\"dataframe\">\n",
       "  <thead>\n",
       "    <tr style=\"text-align: right;\">\n",
       "      <th></th>\n",
       "      <th>Province/State</th>\n",
       "      <th>Country/Region</th>\n",
       "      <th>Lat</th>\n",
       "      <th>Long</th>\n",
       "      <th>Date</th>\n",
       "      <th>Confirmed</th>\n",
       "      <th>Deaths</th>\n",
       "      <th>Recovered</th>\n",
       "      <th>Id</th>\n",
       "      <th>Ln_confirmed</th>\n",
       "    </tr>\n",
       "  </thead>\n",
       "  <tbody>\n",
       "    <tr>\n",
       "      <td>0</td>\n",
       "      <td>NaN</td>\n",
       "      <td>Guatemala</td>\n",
       "      <td>15.7835</td>\n",
       "      <td>-90.2308</td>\n",
       "      <td>2020-03-14</td>\n",
       "      <td>1</td>\n",
       "      <td>0</td>\n",
       "      <td>0</td>\n",
       "      <td>0</td>\n",
       "      <td>0.000000</td>\n",
       "    </tr>\n",
       "    <tr>\n",
       "      <td>1</td>\n",
       "      <td>NaN</td>\n",
       "      <td>Guatemala</td>\n",
       "      <td>15.7835</td>\n",
       "      <td>-90.2308</td>\n",
       "      <td>2020-03-15</td>\n",
       "      <td>1</td>\n",
       "      <td>0</td>\n",
       "      <td>0</td>\n",
       "      <td>1</td>\n",
       "      <td>0.000000</td>\n",
       "    </tr>\n",
       "    <tr>\n",
       "      <td>2</td>\n",
       "      <td>NaN</td>\n",
       "      <td>Guatemala</td>\n",
       "      <td>15.7835</td>\n",
       "      <td>-90.2308</td>\n",
       "      <td>2020-03-16</td>\n",
       "      <td>2</td>\n",
       "      <td>1</td>\n",
       "      <td>0</td>\n",
       "      <td>2</td>\n",
       "      <td>0.693147</td>\n",
       "    </tr>\n",
       "    <tr>\n",
       "      <td>3</td>\n",
       "      <td>NaN</td>\n",
       "      <td>Guatemala</td>\n",
       "      <td>15.7835</td>\n",
       "      <td>-90.2308</td>\n",
       "      <td>2020-03-17</td>\n",
       "      <td>6</td>\n",
       "      <td>1</td>\n",
       "      <td>0</td>\n",
       "      <td>3</td>\n",
       "      <td>1.791759</td>\n",
       "    </tr>\n",
       "    <tr>\n",
       "      <td>4</td>\n",
       "      <td>NaN</td>\n",
       "      <td>Guatemala</td>\n",
       "      <td>15.7835</td>\n",
       "      <td>-90.2308</td>\n",
       "      <td>2020-03-18</td>\n",
       "      <td>6</td>\n",
       "      <td>1</td>\n",
       "      <td>0</td>\n",
       "      <td>4</td>\n",
       "      <td>1.791759</td>\n",
       "    </tr>\n",
       "    <tr>\n",
       "      <td>5</td>\n",
       "      <td>NaN</td>\n",
       "      <td>Guatemala</td>\n",
       "      <td>15.7835</td>\n",
       "      <td>-90.2308</td>\n",
       "      <td>2020-03-19</td>\n",
       "      <td>9</td>\n",
       "      <td>1</td>\n",
       "      <td>0</td>\n",
       "      <td>5</td>\n",
       "      <td>2.197225</td>\n",
       "    </tr>\n",
       "    <tr>\n",
       "      <td>6</td>\n",
       "      <td>NaN</td>\n",
       "      <td>Guatemala</td>\n",
       "      <td>15.7835</td>\n",
       "      <td>-90.2308</td>\n",
       "      <td>2020-03-20</td>\n",
       "      <td>12</td>\n",
       "      <td>1</td>\n",
       "      <td>0</td>\n",
       "      <td>6</td>\n",
       "      <td>2.484907</td>\n",
       "    </tr>\n",
       "    <tr>\n",
       "      <td>7</td>\n",
       "      <td>NaN</td>\n",
       "      <td>Guatemala</td>\n",
       "      <td>15.7835</td>\n",
       "      <td>-90.2308</td>\n",
       "      <td>2020-03-21</td>\n",
       "      <td>17</td>\n",
       "      <td>1</td>\n",
       "      <td>0</td>\n",
       "      <td>7</td>\n",
       "      <td>2.833213</td>\n",
       "    </tr>\n",
       "    <tr>\n",
       "      <td>8</td>\n",
       "      <td>NaN</td>\n",
       "      <td>Guatemala</td>\n",
       "      <td>15.7835</td>\n",
       "      <td>-90.2308</td>\n",
       "      <td>2020-03-22</td>\n",
       "      <td>19</td>\n",
       "      <td>1</td>\n",
       "      <td>0</td>\n",
       "      <td>8</td>\n",
       "      <td>2.944439</td>\n",
       "    </tr>\n",
       "    <tr>\n",
       "      <td>9</td>\n",
       "      <td>NaN</td>\n",
       "      <td>Guatemala</td>\n",
       "      <td>15.7835</td>\n",
       "      <td>-90.2308</td>\n",
       "      <td>2020-03-23</td>\n",
       "      <td>20</td>\n",
       "      <td>1</td>\n",
       "      <td>0</td>\n",
       "      <td>9</td>\n",
       "      <td>2.995732</td>\n",
       "    </tr>\n",
       "  </tbody>\n",
       "</table>\n",
       "</div>"
      ],
      "text/plain": [
       "  Province/State Country/Region      Lat     Long       Date  Confirmed  \\\n",
       "0            NaN      Guatemala  15.7835 -90.2308 2020-03-14          1   \n",
       "1            NaN      Guatemala  15.7835 -90.2308 2020-03-15          1   \n",
       "2            NaN      Guatemala  15.7835 -90.2308 2020-03-16          2   \n",
       "3            NaN      Guatemala  15.7835 -90.2308 2020-03-17          6   \n",
       "4            NaN      Guatemala  15.7835 -90.2308 2020-03-18          6   \n",
       "5            NaN      Guatemala  15.7835 -90.2308 2020-03-19          9   \n",
       "6            NaN      Guatemala  15.7835 -90.2308 2020-03-20         12   \n",
       "7            NaN      Guatemala  15.7835 -90.2308 2020-03-21         17   \n",
       "8            NaN      Guatemala  15.7835 -90.2308 2020-03-22         19   \n",
       "9            NaN      Guatemala  15.7835 -90.2308 2020-03-23         20   \n",
       "\n",
       "   Deaths  Recovered  Id  Ln_confirmed  \n",
       "0       0          0   0      0.000000  \n",
       "1       0          0   1      0.000000  \n",
       "2       1          0   2      0.693147  \n",
       "3       1          0   3      1.791759  \n",
       "4       1          0   4      1.791759  \n",
       "5       1          0   5      2.197225  \n",
       "6       1          0   6      2.484907  \n",
       "7       1          0   7      2.833213  \n",
       "8       1          0   8      2.944439  \n",
       "9       1          0   9      2.995732  "
      ]
     },
     "execution_count": 26,
     "metadata": {},
     "output_type": "execute_result"
    }
   ],
   "source": [
    "GT_confirmed.head(10)"
   ]
  },
  {
   "cell_type": "code",
   "execution_count": 29,
   "metadata": {},
   "outputs": [
    {
     "data": {
      "text/plain": [
       "<matplotlib.axes._subplots.AxesSubplot at 0x20e56a28d88>"
      ]
     },
     "execution_count": 29,
     "metadata": {},
     "output_type": "execute_result"
    },
    {
     "data": {
      "image/png": "[encoded data removed]",
      "text/plain": [
       "<Figure size 432x288 with 1 Axes>"
      ]
     },
     "metadata": {
      "needs_background": "light"
     },
     "output_type": "display_data"
    }
   ],
   "source": [
    "GT_confirmed_post24 = GT_confirmed[GT_confirmed.Date >= '2020-03-22']\n",
    "GT_confirmed_post24.plot.scatter(x = \"Id\",y=\"Ln_confirmed\")"
   ]
  },
  {
   "cell_type": "code",
   "execution_count": 30,
   "metadata": {},
   "outputs": [],
   "source": [
    "### Objeto del modelo\n",
    "class GradientDesend:\n",
    "    def __init__(self,b0=0.,b1=0.):\n",
    "        tf.reset_default_graph()\n",
    "        self.b0 = tf.get_variable(\"B0\",dtype=tf.float32,\n",
    "                                  shape=[],initializer=tf.constant_initializer(b0))\n",
    "        self.b1 = tf.get_variable(\"B1\",dtype=tf.float32,\n",
    "                                  shape=[],initializer=tf.constant_initializer(b1))\n",
    "        self.error = tf.get_variable(\"error\",dtype=tf.float32,\n",
    "                                  shape=[],initializer=tf.zeros_initializer())\n",
    "        \n",
    "    def step(self,x,y,lr):\n",
    "        # hipotesis\n",
    "        yhat = tf.matmul(x,[[self.b0],[self.b1]],name=\"yhat\") \n",
    "\n",
    "        error = tf.reduce_mean(tf.math.square(y - yhat) ,name=\"reduce_mean\")/2\n",
    "\n",
    "        grad = tf.gradients(error,[self.b0,self.b1], name = \"gradients\")\n",
    "        \n",
    "        \n",
    "        local_b0 = tf.assign(self.b0, self.b0 - lr*grad[0] , name=\"assign_b0\")\n",
    "        local_b1 = tf.assign(self.b1, self.b1 - lr*grad[1] , name=\"assign_b1\")\n",
    "        local_error = tf.assign(self.error, error , name=\"assign_error\")\n",
    "        \n",
    "        \n",
    "        salida = tf.group(local_b0,local_b1,local_error, name=\"grupo\")\n",
    "\n",
    "        return salida"
   ]
  },
  {
   "cell_type": "code",
   "execution_count": 42,
   "metadata": {},
   "outputs": [
    {
     "name": "stdout",
     "output_type": "stream",
     "text": [
      "INFO:tensorflow:Graph was finalized.\n",
      "INFO:tensorflow:Running local_init_op.\n",
      "INFO:tensorflow:Done running local_init_op.\n",
      "y = 0.12136128544807434x + 0.014133050106465816 [3.5852770805358887]\n"
     ]
    }
   ],
   "source": [
    "tf.reset_default_graph()\n",
    "\n",
    "\n",
    "# valores iniciales\n",
    "init_b0 = 0\n",
    "init_b1 = 0\n",
    "lr = 0.0008\n",
    "iteracciones = 15\n",
    "\n",
    "gd = GradientDesend(init_b0,init_b1)\n",
    "\n",
    "dat_x = tf.placeholder(tf.float32,[None,2],\"Value_x\")\n",
    "dat_y = tf.placeholder(tf.float32,[None],\"Value_y\")\n",
    "\n",
    "step = gd.step(dat_x,dat_y,lr)\n",
    "\n",
    "# se agrega unos a los valores de X para operarlo como matriz\n",
    "nc = np.ones_like(GT_confirmed_post24[\"Id\"])\n",
    "x = np.hstack((np.expand_dims(GT_confirmed_post24[\"Id\"],1),np.expand_dims(nc,1))) \n",
    "\n",
    "\n",
    "error_summary = tf.summary.scalar('error', gd.error)\n",
    "\n",
    "with tf.train.MonitoredSession() as session:\n",
    "    localdir = \"logs_tarea2/gradient_\" + datetime.now().strftime(\"%Y%m%d-%H%M%S\") + \"_lr=\" + str(lr) + \"_b0=\"+ str(init_b0) + \"_b1=\"+ str(init_b1)\n",
    "\n",
    "    feed_dict = {dat_x:x, dat_y:GT_confirmed_post24[\"Ln_confirmed\"]}\n",
    "    writer = tf.summary.FileWriter(localdir , session.graph)\n",
    "    for i in range(iteracciones):\n",
    "        session.run(step,feed_dict=feed_dict)\n",
    "        summary = session.run(error_summary,feed_dict=feed_dict)\n",
    "        writer.add_summary(summary, i)\n",
    "\n",
    "    \n",
    "    \n",
    "    b0,b1,error = session.run([gd.b0,gd.b1,gd.error],feed_dict=feed_dict)\n",
    "    print(\"y = {}x + {} [{}]\".format(b0,b1,error))"
   ]
  },
  {
   "cell_type": "markdown",
   "metadata": {},
   "source": [
    "#### Prueba del modelo para 6 de junio\n",
    "\n",
    "Una vez entrenado el modelo usarlo para aproximar la cantidad de casos confirmados para el *6 de Junio*. Se debe reportar la cantidad de casos, no la cantidad transformada obtenida.\n",
    "\n",
    "Seria para el **Id = 84**"
   ]
  },
  {
   "cell_type": "code",
   "execution_count": 55,
   "metadata": {},
   "outputs": [
    {
     "data": {
      "text/html": [
       "<div>\n",
       "<style scoped>\n",
       "    .dataframe tbody tr th:only-of-type {\n",
       "        vertical-align: middle;\n",
       "    }\n",
       "\n",
       "    .dataframe tbody tr th {\n",
       "        vertical-align: top;\n",
       "    }\n",
       "\n",
       "    .dataframe thead th {\n",
       "        text-align: right;\n",
       "    }\n",
       "</style>\n",
       "<table border=\"1\" class=\"dataframe\">\n",
       "  <thead>\n",
       "    <tr style=\"text-align: right;\">\n",
       "      <th></th>\n",
       "      <th>Province/State</th>\n",
       "      <th>Country/Region</th>\n",
       "      <th>Lat</th>\n",
       "      <th>Long</th>\n",
       "      <th>Date</th>\n",
       "      <th>Confirmed</th>\n",
       "      <th>Deaths</th>\n",
       "      <th>Recovered</th>\n",
       "      <th>Id</th>\n",
       "      <th>Ln_confirmed</th>\n",
       "    </tr>\n",
       "  </thead>\n",
       "  <tbody>\n",
       "    <tr>\n",
       "      <td>62</td>\n",
       "      <td>NaN</td>\n",
       "      <td>Guatemala</td>\n",
       "      <td>15.7835</td>\n",
       "      <td>-90.2308</td>\n",
       "      <td>2020-05-15</td>\n",
       "      <td>1643</td>\n",
       "      <td>30</td>\n",
       "      <td>135</td>\n",
       "      <td>62</td>\n",
       "      <td>7.404279</td>\n",
       "    </tr>\n",
       "    <tr>\n",
       "      <td>63</td>\n",
       "      <td>NaN</td>\n",
       "      <td>Guatemala</td>\n",
       "      <td>15.7835</td>\n",
       "      <td>-90.2308</td>\n",
       "      <td>2020-05-16</td>\n",
       "      <td>1763</td>\n",
       "      <td>33</td>\n",
       "      <td>138</td>\n",
       "      <td>63</td>\n",
       "      <td>7.474772</td>\n",
       "    </tr>\n",
       "    <tr>\n",
       "      <td>64</td>\n",
       "      <td>NaN</td>\n",
       "      <td>Guatemala</td>\n",
       "      <td>15.7835</td>\n",
       "      <td>-90.2308</td>\n",
       "      <td>2020-05-17</td>\n",
       "      <td>1763</td>\n",
       "      <td>33</td>\n",
       "      <td>138</td>\n",
       "      <td>64</td>\n",
       "      <td>7.474772</td>\n",
       "    </tr>\n",
       "    <tr>\n",
       "      <td>65</td>\n",
       "      <td>NaN</td>\n",
       "      <td>Guatemala</td>\n",
       "      <td>15.7835</td>\n",
       "      <td>-90.2308</td>\n",
       "      <td>2020-05-18</td>\n",
       "      <td>1912</td>\n",
       "      <td>35</td>\n",
       "      <td>138</td>\n",
       "      <td>65</td>\n",
       "      <td>7.555905</td>\n",
       "    </tr>\n",
       "    <tr>\n",
       "      <td>66</td>\n",
       "      <td>NaN</td>\n",
       "      <td>Guatemala</td>\n",
       "      <td>15.7835</td>\n",
       "      <td>-90.2308</td>\n",
       "      <td>2020-05-19</td>\n",
       "      <td>2133</td>\n",
       "      <td>43</td>\n",
       "      <td>155</td>\n",
       "      <td>66</td>\n",
       "      <td>7.665285</td>\n",
       "    </tr>\n",
       "  </tbody>\n",
       "</table>\n",
       "</div>"
      ],
      "text/plain": [
       "   Province/State Country/Region      Lat     Long       Date  Confirmed  \\\n",
       "62            NaN      Guatemala  15.7835 -90.2308 2020-05-15       1643   \n",
       "63            NaN      Guatemala  15.7835 -90.2308 2020-05-16       1763   \n",
       "64            NaN      Guatemala  15.7835 -90.2308 2020-05-17       1763   \n",
       "65            NaN      Guatemala  15.7835 -90.2308 2020-05-18       1912   \n",
       "66            NaN      Guatemala  15.7835 -90.2308 2020-05-19       2133   \n",
       "\n",
       "    Deaths  Recovered  Id  Ln_confirmed  \n",
       "62      30        135  62      7.404279  \n",
       "63      33        138  63      7.474772  \n",
       "64      33        138  64      7.474772  \n",
       "65      35        138  65      7.555905  \n",
       "66      43        155  66      7.665285  "
      ]
     },
     "execution_count": 55,
     "metadata": {},
     "output_type": "execute_result"
    }
   ],
   "source": [
    "GT_confirmed_post24.tail(5)"
   ]
  },
  {
   "cell_type": "code",
   "execution_count": 51,
   "metadata": {},
   "outputs": [
    {
     "data": {
      "text/plain": [
       "10.20848102774471"
      ]
     },
     "execution_count": 51,
     "metadata": {},
     "output_type": "execute_result"
    }
   ],
   "source": [
    "id_pronostico = 84\n",
    "estimacion_inicial = id_pronostico * b0 + b1\n",
    "estimacion_inicial"
   ]
  },
  {
   "cell_type": "code",
   "execution_count": 53,
   "metadata": {},
   "outputs": [
    {
     "data": {
      "text/plain": [
       "27132.323026798505"
      ]
     },
     "execution_count": 53,
     "metadata": {},
     "output_type": "execute_result"
    }
   ],
   "source": [
    "proyeccion = np.exp(estimacion_inicial)\n",
    "proyeccion"
   ]
  },
  {
   "cell_type": "markdown",
   "metadata": {},
   "source": [
    "La proyeccion para el 6 de junio es **27,132**"
   ]
  },
  {
   "cell_type": "markdown",
   "metadata": {},
   "source": [
    "### Parte 2 - Modelo polinomial de calidad de vinos"
   ]
  },
  {
   "cell_type": "markdown",
   "metadata": {},
   "source": [
    "Es permitido utilizar [sklearn.preprocessing.polynomialfeatures](https://scikit-learn.org/stable/modules/generated/sklearn.preprocessing.PolynomialFeatures.html)\n",
    "\n",
    "\n",
    "### Instrucciones\n",
    "\n",
    "1. Seleccionar y transformar(generando las combinaciones polinomiales para un polinomio de grado dos o tres a elección) las features que considere que son las mejores para predecir la calidad del vino, utilizar como minimo 2 features. Para seleccionar las features, hacer un analisis exploratorio por ejemplo(pero no limitado a ):  graficando y viendo la forma en que se comportan los datos.\n",
    "\n",
    " Por ejemplo, se tienen las features \"a\" y \"b\" y seleccionamos polinomio de grado 2, hacemos feature engineering para obtener :\n",
    " \n",
    " $[a,b,a^{2},b^{2},ab]$\n",
    " \n",
    " No olvidar el \"bias\" (parámetro multiplicado por 1) ,con lo cual el dataset puede quedar con las columnas:\n",
    " \n",
    " $[1,a,b,a^{2},b^{2},ab]$\n",
    "2. Una vez transformada la data aplicar regresion lineal con las features polinomiales usando Tensorflow.\n",
    "\n",
    "Requisitos adicionales:\n",
    "* Se debe agregar al notebook un screenshot del grafo de tensorboard, simplificando(usando  names , y name_scope como visto en clase).\n",
    "\n",
    "* Se debe generar un directorio de logs de tensorboard para cada corrida/experimento , con cada directorio identificando facilmente la configuración del experimento como visto en clase, por ejemplo para un experimento con learning rate = 0.1 , y polinomio grado 2  crear un directorio: lr=0.1_polinomio_grado=2. (Agregar al notebook un screenshot de estas gráficas)\n",
    "\n",
    "* Concluir en markdown cual es el mejor modelo para este caso basado en la comparativa entre curvas de costo/error en tensorboard."
   ]
  },
  {
   "cell_type": "code",
   "execution_count": 1,
   "metadata": {},
   "outputs": [],
   "source": [
    "import pandas as pd"
   ]
  },
  {
   "cell_type": "code",
   "execution_count": 2,
   "metadata": {},
   "outputs": [],
   "source": [
    "data = pd.read_csv('winequality-red.csv')"
   ]
  },
  {
   "cell_type": "markdown",
   "metadata": {},
   "source": [
    "### Red Wine Quality Data\n",
    "\n",
    "Se aplicará regresión para crear un modelo de la calidad de vino en función de características del mismo, siendo 1 el peor vino y 10 el mejor.\n",
    "\n",
    "Variables de entrada:\n",
    "1. fixed acidity \n",
    "2. volatile acidity \n",
    "3. citric acid \n",
    "4. residual sugar \n",
    "5. chlorides \n",
    "6. free sulfur dioxide \n",
    "7. total sulfur dioxide \n",
    "8. density \n",
    "9. pH \n",
    "10. sulphates \n",
    "11. alcohol \n",
    "\n",
    "Varaible a predecir: \n",
    "12. quality (puntuacion  entre 0 y 10) \n",
    "\n"
   ]
  },
  {
   "cell_type": "code",
   "execution_count": 3,
   "metadata": {},
   "outputs": [
    {
     "data": {
      "text/html": [
       "<div>\n",
       "<style scoped>\n",
       "    .dataframe tbody tr th:only-of-type {\n",
       "        vertical-align: middle;\n",
       "    }\n",
       "\n",
       "    .dataframe tbody tr th {\n",
       "        vertical-align: top;\n",
       "    }\n",
       "\n",
       "    .dataframe thead th {\n",
       "        text-align: right;\n",
       "    }\n",
       "</style>\n",
       "<table border=\"1\" class=\"dataframe\">\n",
       "  <thead>\n",
       "    <tr style=\"text-align: right;\">\n",
       "      <th></th>\n",
       "      <th>fixed acidity</th>\n",
       "      <th>volatile acidity</th>\n",
       "      <th>citric acid</th>\n",
       "      <th>residual sugar</th>\n",
       "      <th>chlorides</th>\n",
       "      <th>free sulfur dioxide</th>\n",
       "      <th>total sulfur dioxide</th>\n",
       "      <th>density</th>\n",
       "      <th>pH</th>\n",
       "      <th>sulphates</th>\n",
       "      <th>alcohol</th>\n",
       "      <th>quality</th>\n",
       "    </tr>\n",
       "  </thead>\n",
       "  <tbody>\n",
       "    <tr>\n",
       "      <th>0</th>\n",
       "      <td>7.4</td>\n",
       "      <td>0.70</td>\n",
       "      <td>0.00</td>\n",
       "      <td>1.9</td>\n",
       "      <td>0.076</td>\n",
       "      <td>11.0</td>\n",
       "      <td>34.0</td>\n",
       "      <td>0.9978</td>\n",
       "      <td>3.51</td>\n",
       "      <td>0.56</td>\n",
       "      <td>9.4</td>\n",
       "      <td>5</td>\n",
       "    </tr>\n",
       "    <tr>\n",
       "      <th>1</th>\n",
       "      <td>7.8</td>\n",
       "      <td>0.88</td>\n",
       "      <td>0.00</td>\n",
       "      <td>2.6</td>\n",
       "      <td>0.098</td>\n",
       "      <td>25.0</td>\n",
       "      <td>67.0</td>\n",
       "      <td>0.9968</td>\n",
       "      <td>3.20</td>\n",
       "      <td>0.68</td>\n",
       "      <td>9.8</td>\n",
       "      <td>5</td>\n",
       "    </tr>\n",
       "    <tr>\n",
       "      <th>2</th>\n",
       "      <td>7.8</td>\n",
       "      <td>0.76</td>\n",
       "      <td>0.04</td>\n",
       "      <td>2.3</td>\n",
       "      <td>0.092</td>\n",
       "      <td>15.0</td>\n",
       "      <td>54.0</td>\n",
       "      <td>0.9970</td>\n",
       "      <td>3.26</td>\n",
       "      <td>0.65</td>\n",
       "      <td>9.8</td>\n",
       "      <td>5</td>\n",
       "    </tr>\n",
       "    <tr>\n",
       "      <th>3</th>\n",
       "      <td>11.2</td>\n",
       "      <td>0.28</td>\n",
       "      <td>0.56</td>\n",
       "      <td>1.9</td>\n",
       "      <td>0.075</td>\n",
       "      <td>17.0</td>\n",
       "      <td>60.0</td>\n",
       "      <td>0.9980</td>\n",
       "      <td>3.16</td>\n",
       "      <td>0.58</td>\n",
       "      <td>9.8</td>\n",
       "      <td>6</td>\n",
       "    </tr>\n",
       "    <tr>\n",
       "      <th>4</th>\n",
       "      <td>7.4</td>\n",
       "      <td>0.70</td>\n",
       "      <td>0.00</td>\n",
       "      <td>1.9</td>\n",
       "      <td>0.076</td>\n",
       "      <td>11.0</td>\n",
       "      <td>34.0</td>\n",
       "      <td>0.9978</td>\n",
       "      <td>3.51</td>\n",
       "      <td>0.56</td>\n",
       "      <td>9.4</td>\n",
       "      <td>5</td>\n",
       "    </tr>\n",
       "  </tbody>\n",
       "</table>\n",
       "</div>"
      ],
      "text/plain": [
       "   fixed acidity  volatile acidity  citric acid  residual sugar  chlorides  \\\n",
       "0            7.4              0.70         0.00             1.9      0.076   \n",
       "1            7.8              0.88         0.00             2.6      0.098   \n",
       "2            7.8              0.76         0.04             2.3      0.092   \n",
       "3           11.2              0.28         0.56             1.9      0.075   \n",
       "4            7.4              0.70         0.00             1.9      0.076   \n",
       "\n",
       "   free sulfur dioxide  total sulfur dioxide  density    pH  sulphates  \\\n",
       "0                 11.0                  34.0   0.9978  3.51       0.56   \n",
       "1                 25.0                  67.0   0.9968  3.20       0.68   \n",
       "2                 15.0                  54.0   0.9970  3.26       0.65   \n",
       "3                 17.0                  60.0   0.9980  3.16       0.58   \n",
       "4                 11.0                  34.0   0.9978  3.51       0.56   \n",
       "\n",
       "   alcohol  quality  \n",
       "0      9.4        5  \n",
       "1      9.8        5  \n",
       "2      9.8        5  \n",
       "3      9.8        6  \n",
       "4      9.4        5  "
      ]
     },
     "execution_count": 3,
     "metadata": {},
     "output_type": "execute_result"
    }
   ],
   "source": [
    "data.head()"
   ]
  },
  {
   "cell_type": "code",
   "execution_count": null,
   "metadata": {},
   "outputs": [],
   "source": []
  }
 ],
 "metadata": {
  "kernelspec": {
   "display_name": "Python 3",
   "language": "python",
   "name": "python3"
  },
  "language_info": {
   "codemirror_mode": {
    "name": "ipython",
    "version": 3
   },
   "file_extension": ".py",
   "mimetype": "text/x-python",
   "name": "python",
   "nbconvert_exporter": "python",
   "pygments_lexer": "ipython3",
   "version": "3.7.4"
  }
 },
 "nbformat": 4,
 "nbformat_minor": 4
}
